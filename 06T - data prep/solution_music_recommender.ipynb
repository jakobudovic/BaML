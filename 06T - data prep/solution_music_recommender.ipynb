{
 "cells": [
  {
   "cell_type": "markdown",
   "metadata": {},
   "source": [
    "# Preparing the development of a music recommender system"
   ]
  },
  {
   "cell_type": "code",
   "execution_count": null,
   "metadata": {},
   "outputs": [],
   "source": [
    "import pandas as pd\n",
    "import numpy as np\n",
    "import matplotlib.pyplot as plt"
   ]
  },
  {
   "cell_type": "markdown",
   "metadata": {},
   "source": [
    "### Data Cleaning"
   ]
  },
  {
   "cell_type": "markdown",
   "metadata": {},
   "source": [
    "##### users.csv"
   ]
  },
  {
   "cell_type": "markdown",
   "metadata": {},
   "source": [
    "**Task**: Import the *users.csv* file "
   ]
  },
  {
   "cell_type": "code",
   "execution_count": null,
   "metadata": {},
   "outputs": [],
   "source": [
    "users = pd.read_csv('users.csv')\n",
    "users"
   ]
  },
  {
   "cell_type": "markdown",
   "metadata": {},
   "source": [
    "That did not work, we need to use a different delimiter. "
   ]
  },
  {
   "cell_type": "code",
   "execution_count": null,
   "metadata": {},
   "outputs": [],
   "source": [
    "users = pd.read_csv('users.csv', delimiter=';')\n",
    "users"
   ]
  },
  {
   "cell_type": "markdown",
   "metadata": {},
   "source": [
    "**Task**: Rename the columns according to the description in the exercise sheet into a more readible format."
   ]
  },
  {
   "cell_type": "code",
   "execution_count": null,
   "metadata": {},
   "outputs": [],
   "source": [
    "users.rename(columns={\n",
    "    'uid': 'UserId',\n",
    "    'p': 'Premium',\n",
    "    'm1': 'Minutes1',\n",
    "    'm2': 'Minutes2',\n",
    "    'm3': 'Minutes3' \n",
    "}, inplace=True)\n",
    "\n",
    "users"
   ]
  },
  {
   "cell_type": "markdown",
   "metadata": {},
   "source": [
    "**Task**: Unify the labels for the *Premium* attribute."
   ]
  },
  {
   "cell_type": "code",
   "execution_count": null,
   "metadata": {},
   "outputs": [],
   "source": [
    "users['Premium'] = users['Premium'].map({'0': False, \n",
    "                                         '1': True,\n",
    "                                         'Yes': True,\n",
    "                                         'No': False},)\n",
    "\n",
    "users"
   ]
  },
  {
   "cell_type": "markdown",
   "metadata": {},
   "source": [
    "**Task**: Impute the missing values of the attribute *Minutes2* using the values of *Minutes1* and *Minutes3*."
   ]
  },
  {
   "cell_type": "code",
   "execution_count": null,
   "metadata": {},
   "outputs": [],
   "source": [
    "plt.plot(users['Minutes3'] - users['Minutes1'], 'o')\n",
    "plt.title('Difference between the minutes listened before three months and last month')"
   ]
  },
  {
   "cell_type": "markdown",
   "metadata": {},
   "source": [
    "We can see that the listening times vary quite stable around zero. Hence, we assume that the listening patterns are consistent between shorter time periods, and thus, we can impute the missing data by taking the average of the other two columns."
   ]
  },
  {
   "cell_type": "code",
   "execution_count": null,
   "metadata": {},
   "outputs": [],
   "source": [
    "# This does NOT work as we would overwrite non-missing values:\n",
    "# users['Minutes2'] = (users['Minutes1'] + users['Minutes3'])/2\n",
    "# users\n",
    "\n",
    "users['Minutes2'] = users['Minutes2'].fillna((users['Minutes1'] + users['Minutes3'])/2)\n",
    "users"
   ]
  },
  {
   "cell_type": "markdown",
   "metadata": {},
   "source": [
    "##### user_behavior.csv"
   ]
  },
  {
   "cell_type": "markdown",
   "metadata": {},
   "source": [
    "**Task**: Read the *user_behavior.csv* file."
   ]
  },
  {
   "cell_type": "code",
   "execution_count": null,
   "metadata": {},
   "outputs": [],
   "source": [
    "user_behavior = pd.read_csv(\"user_behavior.csv\", delimiter=';')\n",
    "user_behavior"
   ]
  },
  {
   "cell_type": "markdown",
   "metadata": {},
   "source": [
    "**Task**: Rename the columns according to the description in the exercise sheet."
   ]
  },
  {
   "cell_type": "code",
   "execution_count": null,
   "metadata": {},
   "outputs": [],
   "source": [
    "user_behavior.rename(columns={\n",
    "    'user_id': 'UserId',\n",
    "    'song_id': 'SongId',\n",
    "    'num_clicks': 'NumClicks',\n",
    "    'ml': 'MinutesListened',\n",
    "    'g': 'Genre',\n",
    "    'f': 'Favorite',\n",
    "    'mod': 'ModifiedAt', \n",
    "    'artists': 'Artists'\n",
    "}, inplace=True)\n",
    "\n",
    "user_behavior"
   ]
  },
  {
   "cell_type": "markdown",
   "metadata": {},
   "source": [
    "**Task:** Fix the data types of the attributes *Genre* (categorical) and *Favorite* (binary, categorical)."
   ]
  },
  {
   "cell_type": "code",
   "execution_count": null,
   "metadata": {},
   "outputs": [],
   "source": []
  },
  {
   "cell_type": "code",
   "execution_count": null,
   "metadata": {},
   "outputs": [],
   "source": [
    "user_behavior['Genre'] = user_behavior['Genre'].astype('category')\n",
    "user_behavior['Favorite'] = user_behavior['Favorite'].astype('bool')"
   ]
  },
  {
   "cell_type": "code",
   "execution_count": null,
   "metadata": {},
   "outputs": [],
   "source": [
    "user_behavior.info()"
   ]
  },
  {
   "cell_type": "markdown",
   "metadata": {},
   "source": [
    "**Task:** Some genres have more songs than others. Adjust the data set such that it includes only the four largest genres and the genre \"Other\" that summarizes all remaining genres."
   ]
  },
  {
   "cell_type": "markdown",
   "metadata": {},
   "source": [
    "First, we are going to plot the number of songs per genre."
   ]
  },
  {
   "cell_type": "code",
   "execution_count": null,
   "metadata": {},
   "outputs": [],
   "source": [
    "genre_counts = user_behavior['Genre'].value_counts()\n",
    "\n",
    "plt.bar(genre_counts.index, genre_counts.values)\n",
    "plt.xticks(rotation=45)\n",
    "plt.title('Number of songs per genre')"
   ]
  },
  {
   "cell_type": "markdown",
   "metadata": {},
   "source": [
    "We can see that there are four genres that are streamed more often than the genres. We might want to consider to aggregate the remaining genres into a single group."
   ]
  },
  {
   "cell_type": "code",
   "execution_count": null,
   "metadata": {},
   "outputs": [],
   "source": [
    "user_behavior['Genre'] = user_behavior['Genre'].map({\n",
    "    'Electronic': 'Electronic',\n",
    "    'Rock': 'Rock',\n",
    "    'Hip-Hop': 'Hip-Hop',\n",
    "    'Pop': 'Pop'\n",
    "}).fillna('Other').astype('category')"
   ]
  },
  {
   "cell_type": "markdown",
   "metadata": {},
   "source": [
    "Let's plot the updated genres again."
   ]
  },
  {
   "cell_type": "code",
   "execution_count": null,
   "metadata": {},
   "outputs": [],
   "source": [
    "genre_counts = user_behavior['Genre'].value_counts()\n",
    "\n",
    "plt.bar(genre_counts.index, genre_counts.values)\n",
    "plt.xticks(rotation=45)\n",
    "plt.title('Number of songs per genre')"
   ]
  },
  {
   "cell_type": "markdown",
   "metadata": {},
   "source": [
    "**Task:** Create for a new column for the weekday, year, month, and day of each date names *ModifiedAt*."
   ]
  },
  {
   "cell_type": "code",
   "execution_count": null,
   "metadata": {},
   "outputs": [],
   "source": [
    "user_behavior['ModifiedAt'] = user_behavior['ModifiedAt'].astype('datetime64[ns]')\n",
    "user_behavior['Weekday'] = user_behavior['ModifiedAt'].dt.day_name()\n",
    "user_behavior['Year'] = user_behavior['ModifiedAt'].dt.year\n",
    "user_behavior['Month'] = user_behavior['ModifiedAt'].dt.month   \n",
    "user_behavior['Day'] = user_behavior['ModifiedAt'].dt.day\n",
    "\n",
    "user_behavior"
   ]
  },
  {
   "cell_type": "markdown",
   "metadata": {},
   "source": [
    "#### artists.csv"
   ]
  },
  {
   "cell_type": "markdown",
   "metadata": {},
   "source": [
    "**Task**: Read the *artists.csv* file and re-name the columns according to the exercise sheet."
   ]
  },
  {
   "cell_type": "code",
   "execution_count": null,
   "metadata": {},
   "outputs": [],
   "source": [
    "artists = pd.read_csv(\"artists.csv\", sep=';')\n",
    "\n",
    "artists.rename(columns={\n",
    "    'artist_id': \"ArtistId\",\n",
    "    'genre': \"Genre\",\n",
    "    'featured': \"Featured\",\n",
    "    'monthly_listeners': \"MonthListeners\"\n",
    "}, inplace=True)\n",
    "\n",
    "artists.info()"
   ]
  },
  {
   "cell_type": "markdown",
   "metadata": {},
   "source": [
    "**Task:** Convert the attributes *Genre* and *Featured* to categorical variables."
   ]
  },
  {
   "cell_type": "code",
   "execution_count": null,
   "metadata": {},
   "outputs": [],
   "source": [
    "artists[\"Genre\"] = artists[\"Genre\"].astype(\"category\")\n",
    "artists[\"Featured\"] = artists[\"Featured\"].astype(\"category\")"
   ]
  },
  {
   "cell_type": "code",
   "execution_count": null,
   "metadata": {},
   "outputs": [],
   "source": [
    "artists"
   ]
  },
  {
   "cell_type": "code",
   "execution_count": null,
   "metadata": {},
   "outputs": [],
   "source": [
    "artists.info()"
   ]
  },
  {
   "cell_type": "markdown",
   "metadata": {},
   "source": [
    "### Data aggregation"
   ]
  },
  {
   "cell_type": "markdown",
   "metadata": {},
   "source": [
    "**Task:** Merge the *users* and *user_behavior* tables together. Create a view in which you determine how many minutes a user listens to songs on average. Additionally, what is the highest number of clicks a user had on a song?"
   ]
  },
  {
   "cell_type": "code",
   "execution_count": null,
   "metadata": {},
   "outputs": [],
   "source": [
    "users_with_behavior = users.merge(user_behavior)\n",
    "users_with_behavior"
   ]
  },
  {
   "cell_type": "code",
   "execution_count": null,
   "metadata": {},
   "outputs": [],
   "source": [
    "users_with_behavior.groupby('UserId').agg(MeanListen=('MinutesListened', 'mean'), MaxClick=('NumClicks', 'max')).reset_index()"
   ]
  },
  {
   "cell_type": "markdown",
   "metadata": {},
   "source": [
    "**Task:** Merge the *user_behavior* and *artist* tables to determine the most clicked artist per genre (defined by the song)."
   ]
  },
  {
   "cell_type": "code",
   "execution_count": null,
   "metadata": {},
   "outputs": [],
   "source": [
    "user_behavior"
   ]
  },
  {
   "cell_type": "code",
   "execution_count": null,
   "metadata": {},
   "outputs": [],
   "source": [
    "artists_with_behavior = artists.merge(user_behavior, left_on=\"ArtistId\", right_on=\"Artists\")\n",
    "artists_with_behavior"
   ]
  },
  {
   "cell_type": "markdown",
   "metadata": {},
   "source": [
    "Question: Why can't we just use artists.merge(user_behavior)?"
   ]
  },
  {
   "cell_type": "markdown",
   "metadata": {},
   "source": [
    "Answer: Without specifying the join condition, the merge would automatically join both table on \"Genre\", which leads to a wrong result."
   ]
  },
  {
   "cell_type": "markdown",
   "metadata": {},
   "source": [
    "Which is the most clicked artist per genre of the song?"
   ]
  },
  {
   "cell_type": "code",
   "execution_count": null,
   "metadata": {},
   "outputs": [],
   "source": [
    "artists_with_behavior = artists_with_behavior.rename(columns={\n",
    "    \"Genre_x\": \"GenreSong\",\n",
    "    \"Genre_y\": \"GenreArtist\"\n",
    "})\n",
    "\n",
    "artists_with_behavior.info()"
   ]
  },
  {
   "cell_type": "code",
   "execution_count": null,
   "metadata": {},
   "outputs": [],
   "source": [
    "group = artists_with_behavior.groupby([\"GenreSong\", \"ArtistId\"]).agg(NumClicks=('NumClicks', 'sum')).reset_index()\n",
    "group"
   ]
  },
  {
   "cell_type": "code",
   "execution_count": null,
   "metadata": {},
   "outputs": [],
   "source": [
    "group[group['NumClicks'] == group.groupby('GenreSong')['NumClicks'].transform('max')]"
   ]
  },
  {
   "cell_type": "markdown",
   "metadata": {},
   "source": [
    "**Task**: Determine for each artist, the fan that spend the spends the most minutes listening their music"
   ]
  },
  {
   "cell_type": "code",
   "execution_count": null,
   "metadata": {},
   "outputs": [],
   "source": [
    "users_with_behavior"
   ]
  },
  {
   "cell_type": "code",
   "execution_count": null,
   "metadata": {},
   "outputs": [],
   "source": [
    "data = users_with_behavior.merge(artists, left_on=\"Artists\", right_on=\"ArtistId\")\n",
    "data"
   ]
  },
  {
   "cell_type": "code",
   "execution_count": null,
   "metadata": {},
   "outputs": [],
   "source": [
    "group = data.groupby([\"ArtistId\", \"UserId\"]).agg(MinutesListened=(\"MinutesListened\", \"sum\")).reset_index()\n",
    "group"
   ]
  },
  {
   "cell_type": "code",
   "execution_count": null,
   "metadata": {},
   "outputs": [],
   "source": [
    "group[group['MinutesListened'] == group.groupby('ArtistId')['MinutesListened'].transform('max')]"
   ]
  }
 ],
 "metadata": {
  "kernelspec": {
   "display_name": "Python 3 (ipykernel)",
   "language": "python",
   "name": "python3"
  },
  "language_info": {
   "codemirror_mode": {
    "name": "ipython",
    "version": 3
   },
   "file_extension": ".py",
   "mimetype": "text/x-python",
   "name": "python",
   "nbconvert_exporter": "python",
   "pygments_lexer": "ipython3",
   "version": "3.10.6"
  }
 },
 "nbformat": 4,
 "nbformat_minor": 2
}
