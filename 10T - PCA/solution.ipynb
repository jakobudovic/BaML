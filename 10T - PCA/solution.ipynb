{
 "cells": [
  {
   "cell_type": "markdown",
   "metadata": {},
   "source": [
    "## PCA for Image Compression"
   ]
  },
  {
   "cell_type": "markdown",
   "metadata": {},
   "source": [
    "The goal of this exercise is to use PCA for image compression in Python."
   ]
  },
  {
   "cell_type": "markdown",
   "metadata": {},
   "source": [
    "##### a) Load an image of the famous painting \"The Starry Night\" by Vincent Van Gogh, and store it as an RGB-image."
   ]
  },
  {
   "cell_type": "code",
   "execution_count": null,
   "metadata": {},
   "outputs": [],
   "source": [
    "# For easy image loading, we use skimage.io via io.imread(url)\n",
    "# You can get it via installing the scikit-image module/package\n",
    "# e.g. by executing this command from a cell -->   %pip install scikit-image\n",
    "\n",
    "import numpy as np\n",
    "from skimage import io\n",
    "from sklearn.decomposition import PCA\n",
    "import matplotlib.pyplot as plt"
   ]
  },
  {
   "cell_type": "code",
   "execution_count": null,
   "metadata": {},
   "outputs": [],
   "source": [
    "# load the image\n",
    "url = \"https://upload.wikimedia.org/wikipedia/commons/thumb/e/ea/Van_Gogh_-_Starry_Night_-_Google_Art_Project.jpg/1364px-Van_Gogh_-_Starry_Night_-_Google_Art_Project.jpg\"\n",
    "img = io.imread(url)\n",
    "\n",
    "# save it locally\n",
    "io.imsave(\"original.png\", img)"
   ]
  },
  {
   "cell_type": "code",
   "execution_count": null,
   "metadata": {},
   "outputs": [],
   "source": [
    "# note, that the image is stored as a 3-dimensional numpy array\n",
    "print(\"image data type:\", type(img))\n",
    "print(\"image shape:\", img.shape)"
   ]
  },
  {
   "cell_type": "code",
   "execution_count": null,
   "metadata": {},
   "outputs": [],
   "source": [
    "# the third axis specifies the \"color channels\" of the image,\n",
    "# split each channel into a seperate variable\n",
    "r = img[:, :, 0]\n",
    "g = img[:, :, 1]\n",
    "b = img[:, :, 2]"
   ]
  },
  {
   "cell_type": "code",
   "execution_count": null,
   "metadata": {},
   "outputs": [],
   "source": [
    "# have a look at the original image and the single channels\n",
    "\n",
    "# prepare pyplot figure\n",
    "fig = plt.figure(figsize=(16, 16))\n",
    "\n",
    "# draw original image\n",
    "fig.add_subplot(2, 1, 1)\n",
    "plt.title(\"original\")\n",
    "plt.imshow(img)\n",
    "\n",
    "# draw reds\n",
    "fig.add_subplot(2, 3, 4)\n",
    "plt.title(\"red\")\n",
    "plt.imshow(r, cmap=\"Greys\")\n",
    "\n",
    "# draw greens\n",
    "fig.add_subplot(2, 3, 5)\n",
    "plt.title(\"green\")\n",
    "plt.imshow(g, cmap=\"Greys\")\n",
    "\n",
    "# draw blues\n",
    "fig.add_subplot(2, 3, 6)\n",
    "plt.title(\"blue\")\n",
    "plt.imshow(b, cmap=\"Greys\")\n",
    "\n",
    "plt.show()"
   ]
  },
  {
   "cell_type": "markdown",
   "metadata": {},
   "source": [
    "##### b) Apply PCA to compress the image."
   ]
  },
  {
   "cell_type": "code",
   "execution_count": null,
   "metadata": {},
   "outputs": [],
   "source": [
    "def compress_image(image, number_of_components=None, keep_pca_objects=False):\n",
    "  \"\"\"\n",
    "  Uses PCA to compress a multi-channel image.\n",
    "\n",
    "  Parameters\n",
    "  ----------\n",
    "  image : numpy.ndarray\n",
    "    The image to compress\n",
    "  number_of_components : int, optional\n",
    "    The number of principal components to use for compression. If None, keeps all\n",
    "  keep_pca_objects : bool, optional\n",
    "    If True, a list of PCA objects will be returned alongside the compressed\n",
    "    image. The default is False.\n",
    "\n",
    "  Returns\n",
    "  -------\n",
    "  compressed_image : numpy.ndarray\n",
    "  pca_objects : list, optional (see argument keep_pca_objects)\n",
    "  \"\"\"\n",
    "  list_of_compressed_channels = list()\n",
    "  list_of_pca_objects = list()\n",
    "  \n",
    "  # for each channel of the image\n",
    "  for i in range(image.shape[2]):\n",
    "    # get channel image, normalize data to [0, 1] before applying PCA\n",
    "    channel_data = img[:, :, i] / 255.0\n",
    "    \n",
    "    # perform pca\n",
    "    pca = PCA(n_components=number_of_components)\n",
    "    pca.fit(channel_data)\n",
    "    compressed_channel_data = pca.inverse_transform(pca.transform(channel_data))\n",
    "    \n",
    "    # save fitted pca object\n",
    "    if keep_pca_objects:\n",
    "      list_of_pca_objects.append(pca)\n",
    "    \n",
    "    # save compressed channel\n",
    "    list_of_compressed_channels.append(compressed_channel_data)\n",
    "  \n",
    "  # combine compressed channels into one compressed multi-channel image\n",
    "  compressed_image = np.stack(list_of_compressed_channels, axis=2)\n",
    "  \n",
    "  # after PCA, the values may fall out of range [0, 255], and need to be\n",
    "  #  renormalized accordingly (alternative: clipping)\n",
    "  compressed_image = (compressed_image - np.min(compressed_image))\n",
    "  compressed_image = (compressed_image * 255 / np.max(compressed_image))  \\\n",
    "                     .astype(np.uint8)\n",
    "                     \n",
    "  returns = None\n",
    "  if keep_pca_objects:\n",
    "    returns = compressed_image, list_of_pca_objects\n",
    "  else:\n",
    "    returns = compressed_image\n",
    "  return returns"
   ]
  },
  {
   "cell_type": "code",
   "execution_count": null,
   "metadata": {},
   "outputs": [],
   "source": [
    "# use the custom function to compress the original image using 5 principal components\n",
    "cimg = compress_image(img, 5)\n",
    "plt.title(\"pca_compression_5_components\")\n",
    "plt.imshow(cimg);"
   ]
  },
  {
   "cell_type": "markdown",
   "metadata": {},
   "source": [
    "##### c) Apply PCA for $n\\in\\{1, 2, 5, 10, 20\\}$. If your computer if powerful enough, you can increase even further. Plot and save the compressed image in each iteration. Observe the size of the image files. Looking at the images, at what point do you clearly identify the painting?"
   ]
  },
  {
   "cell_type": "code",
   "execution_count": null,
   "metadata": {},
   "outputs": [],
   "source": [
    "for n in [1, 2, 5, 10, 20]:\n",
    "  cimg = compress_image(img, n)\n",
    "  io.imsave(\"pca_compression_\"+str(n)+\"_components.png\", cimg)"
   ]
  },
  {
   "cell_type": "markdown",
   "metadata": {},
   "source": [
    "##### d) Determine a reasonable number of clusters using the \"elbow criterion\". For this purpose, create a scree plot that plots the explained variance of each component against the number of components, e.g. for $n\\in[1, ..., 10]$. Does the \"elbow point\" correspond to your visual impression in c) ?"
   ]
  },
  {
   "cell_type": "code",
   "execution_count": null,
   "metadata": {},
   "outputs": [],
   "source": [
    "fig = plt.figure(figsize=(18, 6))\n",
    "n = 10\n",
    "x = np.linspace(1, n, n)\n",
    "\n",
    "cimg, pca = compress_image(img, number_of_components=n, keep_pca_objects=True)\n",
    "plt.xticks(ticks=x)\n",
    "plt.plot(x, pca[0].explained_variance_ratio_, color=\"red\")\n",
    "plt.plot(x, pca[1].explained_variance_ratio_, color=\"green\")\n",
    "plt.plot(x, pca[2].explained_variance_ratio_, color=\"blue\")\n",
    "plt.plot(x, pca[0].explained_variance_ratio_ \\\n",
    "            + pca[1].explained_variance_ratio_ \\\n",
    "            + pca[2].explained_variance_ratio_, color=\"black\")\n",
    "\n",
    "plt.show()\n",
    "\n",
    "# elbow points for n=2 or n=3 (ambiguous). "
   ]
  }
 ],
 "metadata": {
  "kernelspec": {
   "display_name": "Python 3",
   "language": "python",
   "name": "python3"
  },
  "language_info": {
   "codemirror_mode": {
    "name": "ipython",
    "version": 3
   },
   "file_extension": ".py",
   "mimetype": "text/x-python",
   "name": "python",
   "nbconvert_exporter": "python",
   "pygments_lexer": "ipython3",
   "version": "3.10.11"
  }
 },
 "nbformat": 4,
 "nbformat_minor": 2
}
