{
 "cells": [
  {
   "cell_type": "markdown",
   "metadata": {},
   "source": [
    "# Customer demand in a retail shop"
   ]
  },
  {
   "cell_type": "markdown",
   "metadata": {},
   "source": [
    "For this exercise, we suggest to use `statsmodels` because it combines a simple API with a statistically elaborate analysis. You can find the documentation for the package [here](https://www.statsmodels.org/stable/index.html).\n",
    "\n",
    "You can install the package by running\n",
    "```bash\n",
    "pip install statsmodels\n",
    "```\n",
    "(Make sure your BAML environment is active!)\n",
    "\n",
    "An alternative is ``sklear.linear_model.LinearRegression``."
   ]
  },
  {
   "cell_type": "code",
   "execution_count": 1,
   "metadata": {},
   "outputs": [],
   "source": [
    "import numpy as np\n",
    "import pandas as pd\n",
    "import matplotlib.pyplot as plt\n",
    "import statsmodels.api as sm\n",
    "# from sklearn.linear_model import LinearRegression # Alternative"
   ]
  },
  {
   "cell_type": "markdown",
   "metadata": {},
   "source": [
    "## Data"
   ]
  },
  {
   "cell_type": "markdown",
   "metadata": {},
   "source": [
    "The following table displays customer demand for a retail shop.\n",
    "\n",
    "| t | Demand |\n",
    "| - | - |\n",
    "| 0 | 28.20 |\n",
    "| 1 | 37.65 |\n",
    "| 2 | 47.28 |\n",
    "| 3 | 59.76 |\n",
    "| 4 | 73.44 |\n",
    "| 5 | 86.19 |\n",
    "| 6 | 100.31 |\n",
    "| 7 | 112.58 |\n",
    "| 8 | 121.63 |"
   ]
  },
  {
   "cell_type": "code",
   "execution_count": 2,
   "metadata": {},
   "outputs": [
    {
     "name": "stdout",
     "output_type": "stream",
     "text": [
      "   time  demand\n",
      "0     0   28.20\n",
      "1     1   37.65\n",
      "2     2   47.28\n",
      "3     3   59.76\n",
      "4     4   73.44\n",
      "5     5   86.19\n",
      "6     6  100.31\n",
      "7     7  112.58\n",
      "8     8  121.63\n"
     ]
    }
   ],
   "source": [
    "# These are already given in the exercise\n",
    "data = pd.DataFrame([\n",
    "    [0, 28.2], \n",
    "    [1, 37.65], \n",
    "    [2, 47.28], \n",
    "    [3, 59.76], \n",
    "    [4, 73.44], \n",
    "    [5, 86.19], \n",
    "    [6, 100.31], \n",
    "    [7, 112.58], \n",
    "    [8, 121.63]\n",
    "], columns=[\"time\", \"demand\"])\n",
    "\n",
    "print(data)"
   ]
  },
  {
   "cell_type": "code",
   "execution_count": 6,
   "metadata": {},
   "outputs": [
    {
     "data": {
      "image/png": "[encoded data removed]",
      "text/plain": [
       "<Figure size 640x480 with 1 Axes>"
      ]
     },
     "metadata": {},
     "output_type": "display_data"
    }
   ],
   "source": [
    "plt.plot(data[\"demand\"])\n",
    "plt.xlabel(\"Time $t$\")\n",
    "plt.ylabel(\"Demand\")\n",
    "plt.grid()"
   ]
  },
  {
   "cell_type": "markdown",
   "metadata": {},
   "source": [
    "## Exercise a)\n",
    "\n",
    "For the time series above, calculate the forecasted demand value for $t=10$ using simple linear regression and the formula below:\n",
    "\n",
    "$$\\hat{y}_t = \\hat{\\beta}_0 + \\hat{\\beta}_1\\cdot t$$"
   ]
  },
  {
   "cell_type": "code",
   "execution_count": 7,
   "metadata": {},
   "outputs": [
    {
     "name": "stdout",
     "output_type": "stream",
     "text": [
      "Coefficients:\n",
      "const    25.382222\n",
      "time     12.183333\n",
      "dtype: float64\n",
      "Demand at t=10 : 147.22\n"
     ]
    }
   ],
   "source": [
    "# Add constant to the variables for intercept (if needed)\n",
    "X = sm.add_constant(data[\"time\"])\n",
    "Y = data[\"demand\"]\n",
    "\n",
    "# Fit the model\n",
    "model = sm.OLS(Y, X)\n",
    "results = model.fit()\n",
    "print(\"Coefficients:\")\n",
    "print(results.params)\n",
    "\n",
    "# Predict demand for t=10\n",
    "d10 = model.predict(results.params, [1, 10]).squeeze()  # Don't forget the constant!\n",
    "print(\"Demand at t=10 :\", round(float(d10.item()), 2))"
   ]
  },
  {
   "cell_type": "code",
   "execution_count": 31,
   "metadata": {},
   "outputs": [
    {
     "name": "stdout",
     "output_type": "stream",
     "text": [
      "12.18\n"
     ]
    }
   ],
   "source": [
    "# Workaround\n",
    "time_avg = mean(data[\"time\"])\n",
    "b1 = ((1/len(data)) * sum(data[\"time\"] * data[\"demand\"]) - time_avg * mean(data[\"demand\"])) / ((1/len(data) * sum(data[\"time\"]**2 - time_avg**2)))\n",
    "print(f\"{b1:0.2f}\")"
   ]
  },
  {
   "cell_type": "code",
   "execution_count": 30,
   "metadata": {},
   "outputs": [
    {
     "name": "stdout",
     "output_type": "stream",
     "text": [
      "25.38\n"
     ]
    }
   ],
   "source": [
    "b0 = mean(data[\"demand\"]) - b1 * mean(data[\"time\"])\n",
    "print(f\"{b0:0.2f}\")"
   ]
  },
  {
   "cell_type": "code",
   "execution_count": 28,
   "metadata": {},
   "outputs": [
    {
     "name": "stdout",
     "output_type": "stream",
     "text": [
      "                            OLS Regression Results                            \n",
      "==============================================================================\n",
      "Dep. Variable:                 demand   R-squared:                       0.997\n",
      "Model:                            OLS   Adj. R-squared:                  0.996\n",
      "Method:                 Least Squares   F-statistic:                     2249.\n",
      "Date:                Tue, 12 Mar 2024   Prob (F-statistic):           4.85e-10\n",
      "Time:                        15:09:10   Log-Likelihood:                -17.833\n",
      "No. Observations:                   9   AIC:                             39.67\n",
      "Df Residuals:                       7   BIC:                             40.06\n",
      "Df Model:                           1                                         \n",
      "Covariance Type:            nonrobust                                         \n",
      "==============================================================================\n",
      "                 coef    std err          t      P>|t|      [0.025      0.975]\n",
      "------------------------------------------------------------------------------\n",
      "const         25.3822      1.223     20.752      0.000      22.490      28.274\n",
      "time          12.1833      0.257     47.423      0.000      11.576      12.791\n",
      "==============================================================================\n",
      "Omnibus:                        0.984   Durbin-Watson:                   1.090\n",
      "Prob(Omnibus):                  0.611   Jarque-Bera (JB):                0.627\n",
      "Skew:                           0.166   Prob(JB):                        0.731\n",
      "Kurtosis:                       1.751   Cond. No.                         9.06\n",
      "==============================================================================\n",
      "\n",
      "Notes:\n",
      "[1] Standard Errors assume that the covariance matrix of the errors is correctly specified.\n"
     ]
    },
    {
     "name": "stderr",
     "output_type": "stream",
     "text": [
      "/Users/jakobudovic/.pyenv/versions/3.10.6/lib/python3.10/site-packages/scipy/stats/_stats_py.py:1769: UserWarning: kurtosistest only valid for n>=20 ... continuing anyway, n=9\n",
      "  warnings.warn(\"kurtosistest only valid for n>=20 ... continuing \"\n"
     ]
    }
   ],
   "source": [
    "# More information, including t-test statistics\n",
    "print(results.summary())"
   ]
  },
  {
   "cell_type": "markdown",
   "metadata": {},
   "source": [
    "## Exercise b)\n",
    "\n",
    "Calculate the _RMSE_ and explain its meaning."
   ]
  },
  {
   "cell_type": "code",
   "execution_count": 32,
   "metadata": {},
   "outputs": [
    {
     "name": "stdout",
     "output_type": "stream",
     "text": [
      "RMSE =  1.755\n"
     ]
    }
   ],
   "source": [
    "y_pred = model.predict(results.params, X)\n",
    "RSS = np.sum((y_pred - data[\"demand\"])**2)\n",
    "MSE = RSS / len(y_pred)\n",
    "RMSE = (MSE)**(0.5)\n",
    "\n",
    "print(f\"RMSE = {RMSE: .3f}\")"
   ]
  },
  {
   "cell_type": "markdown",
   "metadata": {},
   "source": [
    "**Solution b) Interpretation:**\n",
    "The _RMSE_ is the average deviation of the prediction from the actual values of the data. It is useful for comparing different statistical (including machine learning) models for numerical prediction."
   ]
  },
  {
   "cell_type": "markdown",
   "metadata": {},
   "source": [
    "## Exercise c)\n",
    "\n",
    "For the time series above, calculate the forecasted demand value for $t=10$, assuming a biannual _seasonal component_ of the following form: Starting from the first period $t=0$, suppose after every second period a new year begins. Make use of the formula below:\n",
    "$$\\hat{y}_t = \\hat{\\beta}_0 + \\hat{\\beta}_1\\cdot t + \\hat{\\beta}_2\\cdot Q_1$$"
   ]
  },
  {
   "cell_type": "code",
   "execution_count": null,
   "metadata": {},
   "outputs": [],
   "source": [
    "# Add seasonal component as binary variable\n",
    "Q = np.ones(len(data))\n",
    "data[\"season\"] = np.ones(len(data))\n",
    "data[\"season\"][1::2] = 0\n",
    "print(data)\n",
    "\n",
    "# Select input variables and add constant\n",
    "X = sm.add_constant(data[[\"time\", \"season\"]])\n",
    "Y = data[\"demand\"]\n",
    "\n",
    "# Fit the model\n",
    "model = sm.OLS(Y, X)\n",
    "results = model.fit()\n",
    "print(results.summary())"
   ]
  },
  {
   "cell_type": "code",
   "execution_count": null,
   "metadata": {},
   "outputs": [],
   "source": [
    "# Predict at t = 10 (season = 1)\n",
    "x_new = np.array([1, 10, 1])    # Don't forget the constant here!\n",
    "d10 = model.predict(results.params, x_new)\n",
    "print(f\"Prediction for t = 10: {d10: .2f}\")"
   ]
  },
  {
   "cell_type": "markdown",
   "metadata": {},
   "source": [
    "## Exercise d)\n",
    "Does the data reflect biannual data?"
   ]
  },
  {
   "cell_type": "markdown",
   "metadata": {},
   "source": [
    "**Solution d**\n",
    "\n",
    "No, because the seasonal variable is not statistically significant. (t-value is 0.088 according to statsmodels.)"
   ]
  }
 ],
 "metadata": {
  "kernelspec": {
   "display_name": "Python 3 (ipykernel)",
   "language": "python",
   "name": "python3"
  },
  "language_info": {
   "codemirror_mode": {
    "name": "ipython",
    "version": 3
   },
   "file_extension": ".py",
   "mimetype": "text/x-python",
   "name": "python",
   "nbconvert_exporter": "python",
   "pygments_lexer": "ipython3",
   "version": "3.10.6"
  }
 },
 "nbformat": 4,
 "nbformat_minor": 2
}
