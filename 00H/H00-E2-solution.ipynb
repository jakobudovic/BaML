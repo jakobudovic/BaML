{
 "cells": [
  {
   "cell_type": "markdown",
   "metadata": {},
   "source": [
    "### Plotting Data with Pandas and Matplotlib.Pyplot\n",
    "\n",
    "For common plot types and settings, pandas provides functions that can be\n",
    "accessed directly from the dataframe. It is always possible to design\n",
    "manual plots via matplotlib.pyplot, or use other libraries such as seaborn."
   ]
  },
  {
   "cell_type": "code",
   "execution_count": null,
   "metadata": {},
   "outputs": [],
   "source": [
    "# Read the file \"LaborSupply1988.csv\" into a pandas dataframe\n",
    "import pandas as pd\n",
    "import matplotlib.pyplot as plt\n",
    "\n",
    "df = pd.read_csv(\"LaborSupply1988.csv\")"
   ]
  },
  {
   "cell_type": "code",
   "execution_count": null,
   "metadata": {},
   "outputs": [],
   "source": [
    "# Plot a histogram of the attribute \"age\". What is the most frequent age?\n",
    "\n",
    "# Pandas dataframes have built in basic plotting functionalities\n",
    "df[\"age\"].plot.hist(bins=15)\n",
    "df[\"age\"].mode()  # the mode is the most common value in a dataset"
   ]
  },
  {
   "cell_type": "code",
   "execution_count": null,
   "metadata": {},
   "outputs": [],
   "source": [
    "# Plot the average number of \"kids\" against the \"age\" and interpret the resulting graph.\n",
    "df.groupby(\"age\")[\"kids\"].mean().plot(style=\".\")\n",
    "\n",
    "# Compute correlation of kids vs age\n",
    "corr = df[[\"kids\", \"age\"]].corr()\n",
    "print(corr)\n",
    "\n",
    "# --> correlation between age and kids is negative, meaning the avg number of kids\n",
    "#  decreases with increasing age."
   ]
  },
  {
   "cell_type": "code",
   "execution_count": null,
   "metadata": {},
   "outputs": [],
   "source": [
    "# Plot the \"log of hourly wage (lnwg)\" against the \"age\".\n",
    "df.plot(x=\"age\", y=\"lnwg\", style=\".\")"
   ]
  },
  {
   "cell_type": "code",
   "execution_count": null,
   "metadata": {},
   "outputs": [],
   "source": [
    "# Plot the mean of the \"log of hourly wages (lnwg)\" against the \"age\". \n",
    "# Compute and discuss the type of correlation between \"lnwg\" and \"age\".\n",
    "df.groupby(\"age\")[\"lnwg\"].mean().plot(x=\"age\", y=\"lnwg\", style=\".\")\n",
    "corr = df[[\"age\", \"lnwg\"]].corr()\n",
    "print(corr)\n"
   ]
  },
  {
   "cell_type": "code",
   "execution_count": null,
   "metadata": {},
   "outputs": [],
   "source": [
    "# Plot \"lnhr\" against the \"age\" with different colors for \"disab=0\" and \"disab=1\".\n",
    "Xs = df[\"age\"].values\n",
    "Ys = df[\"lnhr\"].values\n",
    "filterfunction = lambda x : \"red\" if x == 0 else \"blue\"\n",
    "colors = df[\"disab\"].apply(filterfunction).values\n",
    "for x, y, c in zip(Xs, Ys, colors):\n",
    "    plt.scatter(x, y, s=10, color=c)\n",
    "plt.show()"
   ]
  },
  {
   "cell_type": "code",
   "execution_count": null,
   "metadata": {},
   "outputs": [],
   "source": [
    "# Plot a boxplot of the \"log of annual hours (lnhr)\" against the number of kids.\n",
    "# What can be observed regarding median and variance? Is the observation meaningful\n",
    "# for large values of kids?\n",
    "df.plot.box(column=\"lnhr\", by=\"kids\")"
   ]
  }
 ],
 "metadata": {
  "kernelspec": {
   "display_name": "Python 3 (ipykernel)",
   "language": "python",
   "name": "python3"
  },
  "language_info": {
   "codemirror_mode": {
    "name": "ipython",
    "version": 3
   },
   "file_extension": ".py",
   "mimetype": "text/x-python",
   "name": "python",
   "nbconvert_exporter": "python",
   "pygments_lexer": "ipython3",
   "version": "3.10.6"
  }
 },
 "nbformat": 4,
 "nbformat_minor": 2
}
