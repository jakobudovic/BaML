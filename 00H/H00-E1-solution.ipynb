{
 "cells": [
  {
   "cell_type": "markdown",
   "metadata": {},
   "source": [
    "### Loading and Describing Data with Pandas"
   ]
  },
  {
   "cell_type": "code",
   "execution_count": null,
   "metadata": {},
   "outputs": [],
   "source": [
    "# Read the file \"LaborSupply1988.csv\" into a pandas dataframe\n",
    "import pandas as pd\n",
    "df = pd.read_csv(\"LaborSupply1988.csv\")  # df stands for DataFrame"
   ]
  },
  {
   "cell_type": "code",
   "execution_count": null,
   "metadata": {},
   "outputs": [],
   "source": [
    "# How many features (columns) and datapoints (rows) does the dataset have?\n",
    "nr_rows, nr_cols = df.shape\n",
    "print(nr_cols, \"columns/features\")\n",
    "print(nr_rows, \"rows/datapoints\")"
   ]
  },
  {
   "cell_type": "code",
   "execution_count": null,
   "metadata": {},
   "outputs": [],
   "source": [
    "# Which attributes does the dataset have?\n",
    "print(df.columns)"
   ]
  },
  {
   "cell_type": "code",
   "execution_count": null,
   "metadata": {},
   "outputs": [],
   "source": [
    "# List the first 10 datapoints of the dataset\n",
    "df.head(10)"
   ]
  },
  {
   "cell_type": "code",
   "execution_count": null,
   "metadata": {},
   "outputs": [],
   "source": [
    "# What is the value range of the attribute \"age\"?\n",
    "df_min = df[\"age\"].min()\n",
    "df_max = df[\"age\"].max()\n",
    "print(\"'age' feature ranges from\", df_min, \"to\", df_max)\n",
    "\n",
    "# You can also get a short summary of statistics via\n",
    "#df[\"age\"].describe()"
   ]
  },
  {
   "cell_type": "code",
   "execution_count": null,
   "metadata": {},
   "outputs": [],
   "source": [
    "# Calculate the average of log annual hours (lnhr) worked by the labourers with 0, 1, 2, ..., 6 kids each\n",
    "df.groupby(\"kids\")[\"lnhr\"].mean()"
   ]
  },
  {
   "cell_type": "code",
   "execution_count": null,
   "metadata": {},
   "outputs": [],
   "source": [
    "# Calculate the average number of kids of the 40 year olds.\n",
    "v = df[df[\"age\"] == 40][\"kids\"].mean()\n",
    "print(v)"
   ]
  }
 ],
 "metadata": {
  "kernelspec": {
   "display_name": "Python 3",
   "language": "python",
   "name": "python3"
  },
  "language_info": {
   "codemirror_mode": {
    "name": "ipython",
    "version": 3
   },
   "file_extension": ".py",
   "mimetype": "text/x-python",
   "name": "python",
   "nbconvert_exporter": "python",
   "pygments_lexer": "ipython3",
   "version": "3.10.11"
  },
  "orig_nbformat": 4
 },
 "nbformat": 4,
 "nbformat_minor": 2
}
