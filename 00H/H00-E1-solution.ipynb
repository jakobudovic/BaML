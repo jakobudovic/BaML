{
 "cells": [
  {
   "cell_type": "markdown",
   "metadata": {},
   "source": [
    "### Loading and Describing Data with Pandas"
   ]
  },
  {
   "cell_type": "code",
   "execution_count": 1,
   "metadata": {},
   "outputs": [],
   "source": [
    "# Read the file \"LaborSupply1988.csv\" into a pandas dataframe\n",
    "import pandas as pd\n",
    "df = pd.read_csv(\"LaborSupply1988.csv\")  # df stands for DataFrame"
   ]
  },
  {
   "cell_type": "code",
   "execution_count": 2,
   "metadata": {},
   "outputs": [
    {
     "name": "stdout",
     "output_type": "stream",
     "text": [
      "5 columns/features\n",
      "532 rows/datapoints\n"
     ]
    }
   ],
   "source": [
    "# How many features (columns) and datapoints (rows) does the dataset have?\n",
    "nr_rows, nr_cols = df.shape\n",
    "print(nr_cols, \"columns/features\")\n",
    "print(nr_rows, \"rows/datapoints\")"
   ]
  },
  {
   "cell_type": "code",
   "execution_count": 3,
   "metadata": {},
   "outputs": [
    {
     "name": "stdout",
     "output_type": "stream",
     "text": [
      "Index(['lnhr', 'lnwg', 'kids', 'age', 'disab'], dtype='object')\n"
     ]
    }
   ],
   "source": [
    "# Which attributes does the dataset have?\n",
    "print(df.columns)"
   ]
  },
  {
   "cell_type": "code",
   "execution_count": 4,
   "metadata": {},
   "outputs": [
    {
     "data": {
      "text/html": [
       "<div>\n",
       "<style scoped>\n",
       "    .dataframe tbody tr th:only-of-type {\n",
       "        vertical-align: middle;\n",
       "    }\n",
       "\n",
       "    .dataframe tbody tr th {\n",
       "        vertical-align: top;\n",
       "    }\n",
       "\n",
       "    .dataframe thead th {\n",
       "        text-align: right;\n",
       "    }\n",
       "</style>\n",
       "<table border=\"1\" class=\"dataframe\">\n",
       "  <thead>\n",
       "    <tr style=\"text-align: right;\">\n",
       "      <th></th>\n",
       "      <th>lnhr</th>\n",
       "      <th>lnwg</th>\n",
       "      <th>kids</th>\n",
       "      <th>age</th>\n",
       "      <th>disab</th>\n",
       "    </tr>\n",
       "  </thead>\n",
       "  <tbody>\n",
       "    <tr>\n",
       "      <th>0</th>\n",
       "      <td>7.82</td>\n",
       "      <td>1.98</td>\n",
       "      <td>2</td>\n",
       "      <td>36</td>\n",
       "      <td>0</td>\n",
       "    </tr>\n",
       "    <tr>\n",
       "      <th>1</th>\n",
       "      <td>7.63</td>\n",
       "      <td>1.79</td>\n",
       "      <td>0</td>\n",
       "      <td>44</td>\n",
       "      <td>0</td>\n",
       "    </tr>\n",
       "    <tr>\n",
       "      <th>2</th>\n",
       "      <td>7.62</td>\n",
       "      <td>2.64</td>\n",
       "      <td>0</td>\n",
       "      <td>35</td>\n",
       "      <td>1</td>\n",
       "    </tr>\n",
       "    <tr>\n",
       "      <th>3</th>\n",
       "      <td>8.01</td>\n",
       "      <td>1.98</td>\n",
       "      <td>2</td>\n",
       "      <td>31</td>\n",
       "      <td>0</td>\n",
       "    </tr>\n",
       "    <tr>\n",
       "      <th>4</th>\n",
       "      <td>7.73</td>\n",
       "      <td>2.56</td>\n",
       "      <td>2</td>\n",
       "      <td>41</td>\n",
       "      <td>0</td>\n",
       "    </tr>\n",
       "    <tr>\n",
       "      <th>5</th>\n",
       "      <td>7.69</td>\n",
       "      <td>2.76</td>\n",
       "      <td>1</td>\n",
       "      <td>40</td>\n",
       "      <td>0</td>\n",
       "    </tr>\n",
       "    <tr>\n",
       "      <th>6</th>\n",
       "      <td>8.35</td>\n",
       "      <td>2.45</td>\n",
       "      <td>2</td>\n",
       "      <td>53</td>\n",
       "      <td>0</td>\n",
       "    </tr>\n",
       "    <tr>\n",
       "      <th>7</th>\n",
       "      <td>7.69</td>\n",
       "      <td>2.18</td>\n",
       "      <td>0</td>\n",
       "      <td>46</td>\n",
       "      <td>0</td>\n",
       "    </tr>\n",
       "    <tr>\n",
       "      <th>8</th>\n",
       "      <td>7.67</td>\n",
       "      <td>2.79</td>\n",
       "      <td>2</td>\n",
       "      <td>36</td>\n",
       "      <td>0</td>\n",
       "    </tr>\n",
       "    <tr>\n",
       "      <th>9</th>\n",
       "      <td>7.74</td>\n",
       "      <td>2.93</td>\n",
       "      <td>0</td>\n",
       "      <td>55</td>\n",
       "      <td>0</td>\n",
       "    </tr>\n",
       "  </tbody>\n",
       "</table>\n",
       "</div>"
      ],
      "text/plain": [
       "   lnhr  lnwg  kids  age  disab\n",
       "0  7.82  1.98     2   36      0\n",
       "1  7.63  1.79     0   44      0\n",
       "2  7.62  2.64     0   35      1\n",
       "3  8.01  1.98     2   31      0\n",
       "4  7.73  2.56     2   41      0\n",
       "5  7.69  2.76     1   40      0\n",
       "6  8.35  2.45     2   53      0\n",
       "7  7.69  2.18     0   46      0\n",
       "8  7.67  2.79     2   36      0\n",
       "9  7.74  2.93     0   55      0"
      ]
     },
     "execution_count": 4,
     "metadata": {},
     "output_type": "execute_result"
    }
   ],
   "source": [
    "# List the first 10 datapoints of the dataset\n",
    "df.head(10)"
   ]
  },
  {
   "cell_type": "code",
   "execution_count": 5,
   "metadata": {},
   "outputs": [
    {
     "name": "stdout",
     "output_type": "stream",
     "text": [
      "'age' feature ranges from 31 to 60\n"
     ]
    }
   ],
   "source": [
    "# What is the value range of the attribute \"age\"?\n",
    "df_min = df[\"age\"].min()\n",
    "df_max = df[\"age\"].max()\n",
    "print(\"'age' feature ranges from\", df_min, \"to\", df_max)\n",
    "\n",
    "# You can also get a short summary of statistics via\n",
    "#df[\"age\"].describe()"
   ]
  },
  {
   "cell_type": "code",
   "execution_count": 6,
   "metadata": {},
   "outputs": [
    {
     "data": {
      "text/plain": [
       "kids\n",
       "0    7.640549\n",
       "1    7.681368\n",
       "2    7.713586\n",
       "3    7.678415\n",
       "4    7.724500\n",
       "5    7.760000\n",
       "6    7.895000\n",
       "Name: lnhr, dtype: float64"
      ]
     },
     "execution_count": 6,
     "metadata": {},
     "output_type": "execute_result"
    }
   ],
   "source": [
    "# Calculate the average of log annual hours (lnhr) worked by the labourers with 0, 1, 2, ..., 6 kids each\n",
    "df.groupby(\"kids\")[\"lnhr\"].mean()"
   ]
  },
  {
   "cell_type": "code",
   "execution_count": 7,
   "metadata": {},
   "outputs": [
    {
     "name": "stdout",
     "output_type": "stream",
     "text": [
      "1.9705882352941178\n"
     ]
    }
   ],
   "source": [
    "# Calculate the average number of kids of the 40 year olds.\n",
    "v = df[df[\"age\"] == 40][\"kids\"].mean()\n",
    "print(v)"
   ]
  }
 ],
 "metadata": {
  "kernelspec": {
   "display_name": "Python 3 (ipykernel)",
   "language": "python",
   "name": "python3"
  },
  "language_info": {
   "codemirror_mode": {
    "name": "ipython",
    "version": 3
   },
   "file_extension": ".py",
   "mimetype": "text/x-python",
   "name": "python",
   "nbconvert_exporter": "python",
   "pygments_lexer": "ipython3",
   "version": "3.10.6"
  }
 },
 "nbformat": 4,
 "nbformat_minor": 2
}
