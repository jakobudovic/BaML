{
 "cells": [
  {
   "cell_type": "markdown",
   "metadata": {},
   "source": [
    "# CPS1988 dataset"
   ]
  },
  {
   "cell_type": "markdown",
   "metadata": {},
   "source": [
    "Recommendation: Use `statsmodels` and `pandas` for this exercise."
   ]
  },
  {
   "cell_type": "code",
   "execution_count": null,
   "metadata": {},
   "outputs": [],
   "source": [
    "import pandas as pd\n",
    "import matplotlib.pyplot as plt\n",
    "import numpy as np\n",
    "import statsmodels.api as sm"
   ]
  },
  {
   "cell_type": "markdown",
   "metadata": {},
   "source": [
    "## Exercise a)\n",
    "\n",
    "Briefly describe the data set:\n",
    "\n",
    "- Name the dependent variable and the independent variables.\n",
    "- Which scales of measurement do the variables belong to (e.g., nominal, ordinal, interval or ratio)?\n",
    "- Does the data set consist of cross-sectional, time-series or panel data?"
   ]
  },
  {
   "cell_type": "code",
   "execution_count": null,
   "metadata": {},
   "outputs": [],
   "source": [
    "# Import and print the data\n",
    "data = pd.read_csv(\"CPS1988.csv\")\n",
    "print(data.head())"
   ]
  },
  {
   "cell_type": "markdown",
   "metadata": {},
   "source": [
    "## Exercise b)\n",
    "\n",
    "Plot the dependent variable against each independent variable and transform the variables if necessary."
   ]
  },
  {
   "cell_type": "code",
   "execution_count": null,
   "metadata": {},
   "outputs": [],
   "source": [
    "independent_variables = data.columns.drop(\"wage\")\n",
    "\n",
    "fig, axs = plt.subplots(3, 2)\n",
    "for var, ax in zip(independent_variables, axs.reshape(-1)):\n",
    "    ax.scatter(data[var], data[\"wage\"])\n",
    "    ax.set_xlabel(var)\n",
    "fig.supylabel(\"Wage\");\n",
    "fig.tight_layout()"
   ]
  },
  {
   "cell_type": "markdown",
   "metadata": {},
   "source": [
    "\n",
    "Which transformations would you carry out and why? "
   ]
  },
  {
   "cell_type": "markdown",
   "metadata": {},
   "source": [
    "Estimate the following model:\n",
    "\n",
    "$$\n",
    "  \\ln( \\hat{\\text{wage}}_i ) = \\hat\\beta_0 + \\hat\\beta_1 \\cdot \\text{education}_i + \\hat\\beta_2 \\cdot \\text{ethnicity}_i + \\hat\\beta_3 \\cdot \\text{experience}_i\\\\\n",
    "  \\phantom{=} + \\hat\\beta_4 \\cdot \\text{experience}_i^2.\n",
    "$$"
   ]
  },
  {
   "cell_type": "code",
   "execution_count": null,
   "metadata": {},
   "outputs": [],
   "source": [
    "# Build input data\n",
    "X = data[[\"education\", \"ethnicity\", \"experience\"]]\n",
    "X[\"ethnicity\"] = (X[\"ethnicity\"] == \"afam\").astype(float)\n",
    "X[\"experience^2\"] = np.square(data[\"experience\"])\n",
    "X = sm.add_constant(X)\n",
    "\n",
    "print(X.head())"
   ]
  },
  {
   "cell_type": "code",
   "execution_count": null,
   "metadata": {},
   "outputs": [],
   "source": [
    "# Fit model\n",
    "model = sm.OLS(np.log(data[\"wage\"]), X)\n",
    "results = model.fit()\n",
    "print(results.summary())"
   ]
  },
  {
   "cell_type": "markdown",
   "metadata": {},
   "source": [
    "## Exercise c)\n",
    "\n",
    "Interpret the model.\n",
    "- Which variables are statistically significant?\n",
    "- Is the entire model statistically significant?\n",
    "- What is the explanatory power of the model and why?\n",
    "- Interpret each regression coefficient."
   ]
  },
  {
   "cell_type": "markdown",
   "metadata": {},
   "source": [
    "## Exercise d)\n",
    "\n",
    "Now consider the following alternative model:\n",
    "\n",
    "$$\n",
    "    \\ln( \\widehat{\\text{wage}}_i ) = \\hat\\beta_0 + \\hat\\beta_1 \\cdot \\text{education}_i + \\hat\\beta_2 \\cdot \\text{ethnicity}_i + \\hat\\beta_3 \\cdot \\text{education}_i \\cdot \\text{ethnicity}_i\\\\\n",
    "    \\phantom{=} + \\hat\\beta_4 \\cdot \\text{experience}_i + \\hat\\beta_5 \\cdot \\text{experience}_i^2.\n",
    "$$\n",
    "\n",
    "What is the difference between both models?"
   ]
  },
  {
   "cell_type": "markdown",
   "metadata": {},
   "source": [
    "## Exercise e)\n",
    "\n",
    "Repeat c) with the alternative model."
   ]
  },
  {
   "cell_type": "code",
   "execution_count": null,
   "metadata": {},
   "outputs": [],
   "source": [
    "# Build input data\n",
    "X = data[[\"education\", \"ethnicity\", \"experience\"]]\n",
    "X[\"ethnicity\"] = (X[\"ethnicity\"] == \"afam\").astype(float)\n",
    "X[\"ed*eth\"] = X[\"education\"] * X[\"ethnicity\"]\n",
    "X[\"experience^2\"] = np.square(data[\"experience\"])\n",
    "X = sm.add_constant(X)\n",
    "\n",
    "print(X.head())"
   ]
  },
  {
   "cell_type": "code",
   "execution_count": null,
   "metadata": {},
   "outputs": [],
   "source": [
    "# Fit model\n",
    "model = sm.OLS(np.log(data[\"wage\"]), X)\n",
    "results = model.fit()\n",
    "print(results.summary())"
   ]
  }
 ],
 "metadata": {
  "kernelspec": {
   "display_name": "baml-venv",
   "language": "python",
   "name": "python3"
  },
  "language_info": {
   "codemirror_mode": {
    "name": "ipython",
    "version": 3
   },
   "file_extension": ".py",
   "mimetype": "text/x-python",
   "name": "python",
   "nbconvert_exporter": "python",
   "pygments_lexer": "ipython3",
   "version": "3.11.4"
  }
 },
 "nbformat": 4,
 "nbformat_minor": 2
}
