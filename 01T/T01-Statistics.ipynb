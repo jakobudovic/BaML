{
 "cells": [
  {
   "cell_type": "markdown",
   "metadata": {},
   "source": [
    "# Business Analytics & Machine Learning \n",
    "##  Tutorial sheet 1: Statistics "
   ]
  },
  {
   "cell_type": "code",
   "execution_count": 1,
   "metadata": {},
   "outputs": [],
   "source": [
    "import numpy as np\n",
    "from scipy import stats"
   ]
  },
  {
   "cell_type": "markdown",
   "metadata": {},
   "source": [
    "### Exercise 1"
   ]
  },
  {
   "cell_type": "code",
   "execution_count": 2,
   "metadata": {},
   "outputs": [],
   "source": [
    "a = [27, 31, 23, 35, 26, 27, 26, 18, 22, 21]\n",
    "b = [40, 36, 43, 34, 25, 41, 32, 29, 21, 36]\n",
    "\n",
    "# TODO"
   ]
  },
  {
   "cell_type": "code",
   "execution_count": 10,
   "metadata": {},
   "outputs": [
    {
     "data": {
      "text/plain": [
       "[-13, -5, -20, 1, 1, -14, -6, -11, 1, -15]"
      ]
     },
     "execution_count": 10,
     "metadata": {},
     "output_type": "execute_result"
    }
   ],
   "source": [
    "aa = np.array(a)\n",
    "bb = np.array(b)\n",
    "\n",
    "diff = np.subtract(aa, bb)\n",
    "diff_list = diff.tolist()\n",
    "diff_list"
   ]
  },
  {
   "cell_type": "code",
   "execution_count": 60,
   "metadata": {},
   "outputs": [
    {
     "data": {
      "text/plain": [
       "-3.373373572263509"
      ]
     },
     "execution_count": 60,
     "metadata": {},
     "output_type": "execute_result"
    }
   ],
   "source": [
    "d = diff.mean()\n",
    "n = len(diff)\n",
    "s = diff.std(ddof=1)\n",
    "\n",
    "t = d / (s/np.sqrt(n))\n",
    "t"
   ]
  },
  {
   "cell_type": "code",
   "execution_count": 42,
   "metadata": {},
   "outputs": [
    {
     "data": {
      "text/plain": [
       "0.0037"
      ]
     },
     "execution_count": 42,
     "metadata": {},
     "output_type": "execute_result"
    }
   ],
   "source": [
    "ss = np.random.standard_t(len(diff), size=100000)\n",
    "p = np.sum(ss<t) / float(len(ss))\n",
    "p"
   ]
  },
  {
   "cell_type": "code",
   "execution_count": 5,
   "metadata": {},
   "outputs": [
    {
     "data": {
      "text/plain": [
       "Ttest_relResult(statistic=-3.3733735722635085, pvalue=0.008212883453442434)"
      ]
     },
     "execution_count": 5,
     "metadata": {},
     "output_type": "execute_result"
    }
   ],
   "source": [
    "stats.ttest_rel(a, b)"
   ]
  },
  {
   "cell_type": "markdown",
   "metadata": {},
   "source": [
    "### Exercise 2"
   ]
  },
  {
   "cell_type": "code",
   "execution_count": 69,
   "metadata": {},
   "outputs": [
    {
     "name": "stdout",
     "output_type": "stream",
     "text": [
      "s_diff: 0.769\n",
      "t: 0.824\n"
     ]
    }
   ],
   "source": [
    "# individuals = [1, 2, 3, 4, 5, 6, 7, 8, 9, 10, 11, 12, 13, 14, 15, 16, 17, 18]\n",
    "# hours = [4, 2, 3, 5, 7, 2, 7, 3, 5, 2, 2, 1, 5, 3, 1, 3, 2, 3]\n",
    "# gender = [\"f\", \"f\", \"f\", \"f\", \"f\", \"f\", \"f\", \"f\", \"f\", \"f\", \"m\", \"m\", \"m\", \"m\", \"m\", \"m\", \"m\", \"m\"]\n",
    "\n",
    "female = np.array([4, 2, 3, 5, 7, 2, 7, 3, 5, 2])\n",
    "male = np.array([2, 1, 5, 3, 1, 3, 2, 3])\n",
    "\n",
    "f_mean = female.mean()\n",
    "m_mean = male.mean()\n",
    "\n",
    "f_std = female.std(ddof=1)\n",
    "m_std = male.std(ddof=1)\n",
    "\n",
    "s_diff = np.sqrt((f_std**2)/len(female) + (m_std**2)/len(male))\n",
    "print(f\"s_diff: {s_diff:0.3f}\")\n",
    "\n",
    "t = (f_std - m_std) / s_diff\n",
    "print(f\"t: {t:0.3f}\")"
   ]
  },
  {
   "cell_type": "code",
   "execution_count": 58,
   "metadata": {},
   "outputs": [
    {
     "data": {
      "text/plain": [
       "(1.9494276330540574, 0.06941280187626966)"
      ]
     },
     "execution_count": 58,
     "metadata": {},
     "output_type": "execute_result"
    }
   ],
   "source": [
    "t, p = stats.ttest_ind(female, male, equal_var=False)\n",
    "t,p"
   ]
  },
  {
   "cell_type": "markdown",
   "metadata": {},
   "source": [
    "### Exercise T1.3 Research Methods\n",
    "You are a researcher investigating whether a new study technique improves the average test scores of\n",
    "students. You have collected data on the test scores of 15 students who used the new technique (group\n",
    "N T ) and 15 students who did not (group OT ). The following table contains the test scores, where i is the\n",
    "index of a student in a specific group. We can assume that the differences are normally distributed."
   ]
  },
  {
   "cell_type": "code",
   "execution_count": 4,
   "metadata": {},
   "outputs": [],
   "source": [
    "# Data collection\n",
    "scores_nt = np.array([85, 89, 92, 88, 91, 90, 87, 93, 86, 91, 84, 88, 89, 90, 92])\n",
    "scores_ot = np.array([79, 81, 75, 82, 77, 80, 78, 84, 76, 80, 78, 83, 82, 79, 85])\n",
    "\n",
    "# Test conduction\n",
    "\n",
    "# TODO"
   ]
  },
  {
   "cell_type": "code",
   "execution_count": 5,
   "metadata": {},
   "outputs": [],
   "source": [
    "# Determine the 95% confidence interval\n",
    "\n",
    "# TODO"
   ]
  }
 ],
 "metadata": {
  "kernelspec": {
   "display_name": "Python 3 (ipykernel)",
   "language": "python",
   "name": "python3"
  },
  "language_info": {
   "codemirror_mode": {
    "name": "ipython",
    "version": 3
   },
   "file_extension": ".py",
   "mimetype": "text/x-python",
   "name": "python",
   "nbconvert_exporter": "python",
   "pygments_lexer": "ipython3",
   "version": "3.10.6"
  }
 },
 "nbformat": 4,
 "nbformat_minor": 2
}
