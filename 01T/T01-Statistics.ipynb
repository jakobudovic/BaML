{
 "cells": [
  {
   "cell_type": "markdown",
   "metadata": {},
   "source": [
    "# Business Analytics & Machine Learning\n",
    "\n",
    "## Tutorial sheet 1: Statistics\n"
   ]
  },
  {
   "cell_type": "code",
   "execution_count": 3,
   "metadata": {},
   "outputs": [],
   "source": [
    "import numpy as np\n",
    "from scipy import stats"
   ]
  },
  {
   "cell_type": "markdown",
   "metadata": {},
   "source": [
    "### Exercise 1 Effect of tax on consumption\n",
    "\n",
    "The following table contains data of 10 individuals’ consumption levels before and after a tax increase,\n",
    "measured by an index value. High index values correspond to high consumption levels. The rows represent\n",
    "individuals’ identifiers i, their index values prior to the tax increase ai, and after the tax increase bi.\n"
   ]
  },
  {
   "attachments": {},
   "cell_type": "markdown",
   "metadata": {},
   "source": [
    "When dealing with the sample data, degrees of freedom is n-1.  \n",
    "Furthermore, with sample data, it is hard to prove that something holds for whole population. We can, instead, quite confidently prove that an alternative hypothesis does not hold and hence we start with that.\n",
    "\n",
    "![ex1.jpeg](ex1.jpeg)\n"
   ]
  },
  {
   "attachments": {},
   "cell_type": "markdown",
   "metadata": {},
   "source": []
  },
  {
   "cell_type": "code",
   "execution_count": 2,
   "metadata": {},
   "outputs": [],
   "source": [
    "a = [27, 31, 23, 35, 26, 27, 26, 18, 22, 21]\n",
    "b = [40, 36, 43, 34, 25, 41, 32, 29, 21, 36]\n",
    "\n",
    "# TODO"
   ]
  },
  {
   "cell_type": "code",
   "execution_count": 10,
   "metadata": {},
   "outputs": [
    {
     "data": {
      "text/plain": [
       "[-13, -5, -20, 1, 1, -14, -6, -11, 1, -15]"
      ]
     },
     "execution_count": 10,
     "metadata": {},
     "output_type": "execute_result"
    }
   ],
   "source": [
    "aa = np.array(a)\n",
    "bb = np.array(b)\n",
    "\n",
    "diff = np.subtract(aa, bb)\n",
    "diff_list = diff.tolist()\n",
    "diff_list"
   ]
  },
  {
   "cell_type": "code",
   "execution_count": 60,
   "metadata": {},
   "outputs": [
    {
     "data": {
      "text/plain": [
       "-3.373373572263509"
      ]
     },
     "execution_count": 60,
     "metadata": {},
     "output_type": "execute_result"
    }
   ],
   "source": [
    "d = diff.mean()\n",
    "n = len(diff)\n",
    "s = diff.std(ddof=1)\n",
    "\n",
    "t = d / (s/np.sqrt(n))\n",
    "t"
   ]
  },
  {
   "cell_type": "code",
   "execution_count": 42,
   "metadata": {},
   "outputs": [
    {
     "data": {
      "text/plain": [
       "0.0037"
      ]
     },
     "execution_count": 42,
     "metadata": {},
     "output_type": "execute_result"
    }
   ],
   "source": [
    "ss = np.random.standard_t(len(diff), size=100000)\n",
    "p = np.sum(ss<t) / float(len(ss))\n",
    "p"
   ]
  },
  {
   "cell_type": "code",
   "execution_count": 5,
   "metadata": {},
   "outputs": [
    {
     "data": {
      "text/plain": [
       "Ttest_relResult(statistic=-3.3733735722635085, pvalue=0.008212883453442434)"
      ]
     },
     "execution_count": 5,
     "metadata": {},
     "output_type": "execute_result"
    }
   ],
   "source": [
    "stats.ttest_rel(a, b)"
   ]
  },
  {
   "cell_type": "markdown",
   "metadata": {},
   "source": [
    "### Exercise 2: Masks during Covid19\n",
    "\n",
    "In the context of the COVID-19 pandemic, 8 men and 10 women were asked how many hours per day they wear a mask. The following table shows their answers. The hypothesis is \"On average, women wear their mask longer per day than men\". It can be assumed, that the average time people wear their mask is normally distributed.\n",
    "\n",
    "![ex2.jpeg](ex2.jpeg)\n"
   ]
  },
  {
   "cell_type": "code",
   "execution_count": 32,
   "metadata": {},
   "outputs": [
    {
     "name": "stdout",
     "output_type": "stream",
     "text": [
      "female mean: 4.0, male mean: 2.5\n",
      "female std: 1.944, male std: 1.309\n",
      "s_diff: 0.769\n",
      "t: 1.949\n"
     ]
    }
   ],
   "source": [
    "# individuals = [1, 2, 3, 4, 5, 6, 7, 8, 9, 10, 11, 12, 13, 14, 15, 16, 17, 18]\n",
    "# hours = [4, 2, 3, 5, 7, 2, 7, 3, 5, 2, 2, 1, 5, 3, 1, 3, 2, 3]\n",
    "# gender = [\"f\", \"f\", \"f\", \"f\", \"f\", \"f\", \"f\", \"f\", \"f\", \"f\", \"m\", \"m\", \"m\", \"m\", \"m\", \"m\", \"m\", \"m\"]\n",
    "\n",
    "female = np.array([4, 2, 3, 5, 7, 2, 7, 3, 5, 2])\n",
    "male = np.array([2, 1, 5, 3, 1, 3, 2, 3])\n",
    "\n",
    "f_mean = female.mean()\n",
    "m_mean = male.mean()\n",
    "print(f\"female mean: {f_mean}, male mean: {m_mean}\")\n",
    "\n",
    "f_std = female.std(ddof=1)\n",
    "m_std = male.std(ddof=1)\n",
    "print(f\"female std: {f_std:0.3f}, male std: {m_std:0.3f}\")\n",
    "\n",
    "s_diff = np.sqrt(((f_std**2)/len(female)) + ((m_std**2)/len(male)))\n",
    "print(f\"s_diff: {s_diff:0.3f}\")\n",
    "\n",
    "t = (f_mean - m_mean) / s_diff\n",
    "print(f\"t: {t:0.3f}\")"
   ]
  },
  {
   "cell_type": "code",
   "execution_count": 65,
   "metadata": {},
   "outputs": [
    {
     "data": {
      "text/plain": [
       "Ttest_indResult(statistic=1.9494276330540574, pvalue=0.03470640093813483)"
      ]
     },
     "execution_count": 65,
     "metadata": {},
     "output_type": "execute_result"
    }
   ],
   "source": [
    "test = stats.ttest_ind(female, male, alternative=\"greater\", equal_var=False)\n",
    "test\n",
    "# pvalue < alpha: we reject the H0"
   ]
  },
  {
   "cell_type": "code",
   "execution_count": 49,
   "metadata": {},
   "outputs": [
    {
     "data": {
      "text/plain": [
       "1.7458836762762397"
      ]
     },
     "execution_count": 49,
     "metadata": {},
     "output_type": "execute_result"
    }
   ],
   "source": [
    "stats.t.ppf(0.95, df=16)"
   ]
  },
  {
   "cell_type": "markdown",
   "metadata": {},
   "source": [
    "### Exercise T1.3 Research Methods\n",
    "\n",
    "You are a researcher investigating whether a new study technique improves the average test scores of\n",
    "students. You have collected data on the test scores of 15 students who used the new technique (group\n",
    "N T ) and 15 students who did not (group OT ). The following table contains the test scores, where i is the\n",
    "index of a student in a specific group. We can assume that the differences are normally distributed.\n"
   ]
  },
  {
   "cell_type": "markdown",
   "metadata": {},
   "source": [
    "a) State the null hypothesis (H0) and the alternative hypothesis (H1) for this scenario.\n"
   ]
  },
  {
   "cell_type": "markdown",
   "metadata": {},
   "source": [
    "H_0: OT <= NT  \n",
    "H_1: NT > OT\n",
    "\n",
    "(H1 - research question, H0 - plug in the opposite)\n"
   ]
  },
  {
   "cell_type": "markdown",
   "metadata": {},
   "source": [
    "b) Explain whether this is a one-sided or two-sided test and justify your choice.\n"
   ]
  },
  {
   "cell_type": "markdown",
   "metadata": {},
   "source": [
    "One sided, we want to see outliers \"on the right\". 2-sample test (we have 2 independent samples)\n"
   ]
  },
  {
   "cell_type": "markdown",
   "metadata": {},
   "source": [
    "c) Conduct the t-test in Python using the SciPy library to compare the means of the two groups using a significance level of α = 0.05. You can leverage the provided notebook.\n"
   ]
  },
  {
   "cell_type": "code",
   "execution_count": 19,
   "metadata": {},
   "outputs": [
    {
     "data": {
      "text/plain": [
       "Ttest_indResult(statistic=8.87976253646568, pvalue=6.191452789567058e-10)"
      ]
     },
     "execution_count": 19,
     "metadata": {},
     "output_type": "execute_result"
    }
   ],
   "source": [
    "scores_nt = np.array([85, 89, 92, 88, 91, 90, 87, 93, 86, 91, 84, 88, 89, 90, 92])\n",
    "scores_ot = np.array([79, 81, 75, 82, 77, 80, 78, 84, 76, 80, 78, 83, 82, 79, 85])\n",
    "\n",
    "test = stats.ttest_ind(scores_nt, scores_ot, alternative=\"greater\") \n",
    "\n",
    "test"
   ]
  },
  {
   "cell_type": "markdown",
   "metadata": {},
   "source": [
    "stats.t.ppf(0.95, df=)\n"
   ]
  },
  {
   "cell_type": "markdown",
   "metadata": {},
   "source": [
    "d) Given the test result, would you reject the null hypothesis H0? Explain the result in the context of the research question.\n"
   ]
  },
  {
   "cell_type": "markdown",
   "metadata": {},
   "source": [
    "Reject, because pvalue < alpha\n"
   ]
  },
  {
   "cell_type": "markdown",
   "metadata": {},
   "source": [
    "e) Determine and interpret the corresponding 95% confidence interval in Python.\n"
   ]
  },
  {
   "cell_type": "markdown",
   "metadata": {},
   "source": [
    "Answer interpretation:  \n",
    "We are 95% confident that the population lies between values 6.88 and 11.26  \n",
    "We know that the new technique improves the results of the students because the difference is higher (?).  \n",
    "![ex3.jpeg](ex3.jpeg)\n"
   ]
  }
 ],
 "metadata": {
  "kernelspec": {
   "display_name": "Python 3 (ipykernel)",
   "language": "python",
   "name": "python3"
  },
  "language_info": {
   "codemirror_mode": {
    "name": "ipython",
    "version": 3
   },
   "file_extension": ".py",
   "mimetype": "text/x-python",
   "name": "python",
   "nbconvert_exporter": "python",
   "pygments_lexer": "ipython3",
   "version": "3.10.6"
  }
 },
 "nbformat": 4,
 "nbformat_minor": 2
}
