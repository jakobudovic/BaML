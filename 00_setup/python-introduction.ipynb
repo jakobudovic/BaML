{
 "cells": [
  {
   "cell_type": "markdown",
   "metadata": {},
   "source": [
    "# Learning the very basics in Python"
   ]
  },
  {
   "cell_type": "markdown",
   "metadata": {},
   "source": [
    "### Disclaimer\n",
    "\n",
    "This is a very brief Python tutorial. The tutorial is neither meant to be elaborate nor detailed, but rather to give you a quick and easy way of becoming comfortable with reading and writing Python code that we deem necessary for successfully completing BA&ML. "
   ]
  },
  {
   "cell_type": "markdown",
   "metadata": {},
   "source": [
    "### Python Interpreter, IDEs, and iPython Notebooks"
   ]
  },
  {
   "cell_type": "markdown",
   "metadata": {},
   "source": [
    "Python is not a compiled language, but a script language. As such, **Python Code is \"interpreted\"**, meaning it is executed on the fly and doesn't need to be compiled first. The Python Interpreter works in a Read-Evaluate-Print Loop (REPL), and can be interacted with by the user. It reads a statement, evaluates it, prints the output to a console, and waits for the next command. Inside one session, Python saves all variables between loops and makes them accessible to other steps of the loop.  \n",
    "\n",
    "Python programming can be done via command line through the interpreter, but large programs usually are written using an IDE. Most IDEs provide a file viewer, where you can write and save \n",
    "large blocks of code in a \"*.py*\" file and then let the interpreter access these files for execution. \n",
    "\n",
    "Alternatively, you can use **Interactive Python Notebooks** (\"*.ipynb*\" files) which consist of different cell types: **Markdown and Python cells**. This allows to mix formatted plain text and code into one file. In fact, this very file is an interactive notebook."
   ]
  },
  {
   "cell_type": "markdown",
   "metadata": {},
   "source": [
    "##### Running Cells in notebooks\n",
    "\n",
    "Notebooks can be viewed as many simultaneously open Python files (cells) that interact with the same interpreter session. **All these cells share the same variable environment and can thus interact with each other**. Cells also do not have to be executed top-down, but can be run in any arbitrary order. Most \".ipynb\" editors indicate the order of execution by a number in square brackets in the left bottom corner of the cell. \n",
    "\n",
    "Execute \"Cell 1\" (e.g. press Ctrl+Enter when selected) and observe the produced output below the cell."
   ]
  },
  {
   "cell_type": "code",
   "execution_count": null,
   "metadata": {},
   "outputs": [],
   "source": [
    "# Cell 1 : Hello World\n",
    "\n",
    "print(\"Hello World\")"
   ]
  },
  {
   "cell_type": "markdown",
   "metadata": {},
   "source": [
    "The first line of CELL 1 is a single-line comment, which can be done via the hash symbol ``#`` in Python. The third line is a simple ``print`` statement, that sends the passed string to the console. In most notebook readers, console outputs are printed below the respective cells that produced the output."
   ]
  },
  {
   "cell_type": "markdown",
   "metadata": {},
   "source": [
    "### Python Syntax"
   ]
  },
  {
   "cell_type": "markdown",
   "metadata": {},
   "source": [
    "The end of a statement/expression is indicated with a line break instead of a semi-colon.\n",
    "Python also allows dynamic typing, so you needn't specify types of variables."
   ]
  },
  {
   "cell_type": "code",
   "execution_count": null,
   "metadata": {},
   "outputs": [],
   "source": [
    "# Cell 2 : Quick Maths\n",
    "\n",
    "x = 2\n",
    "y = 2\n",
    "z = x + y\n",
    "z -= 1\n",
    "\n",
    "print(z)"
   ]
  },
  {
   "cell_type": "markdown",
   "metadata": {},
   "source": [
    "Because cells interact and share the same variable environment, the order of execution is important and can change the outputs. To demonstrate, execute and re-execute Cell 3 and 4 in arbitrary order for a few times and observe the output."
   ]
  },
  {
   "cell_type": "code",
   "execution_count": null,
   "metadata": {},
   "outputs": [],
   "source": [
    "# Cell 3 : Increment\n",
    "z += 1  # there is no z++ in Python\n",
    "\n",
    "print(z)"
   ]
  },
  {
   "cell_type": "code",
   "execution_count": null,
   "metadata": {},
   "outputs": [],
   "source": [
    "# Cell 4 : Multiply\n",
    "z = 3*z  # alternatively, z *= 3\n",
    "\n",
    "print(z)"
   ]
  },
  {
   "cell_type": "markdown",
   "metadata": {},
   "source": [
    "In contrast to other programming languages, **Python's syntax makes use of indentations for grouping blocks of code.** Curly braces have a different meaning than in most other languages.\n",
    "\n",
    "The next cell shows a simple if-elif-else block. The conditions do not have to be encased by brackets, nor do the code bodies. The grouping is completely done by indentation and the colon (``:``) symbol. The indentation levels have to be consistent though. Standard indentation levels are multiples of four spaces, which can be typed in by pressing tab. \n",
    "\n",
    "Execute Cell 5 a few times. Note, that ``z`` should have been declared in previous cells."
   ]
  },
  {
   "cell_type": "code",
   "execution_count": null,
   "metadata": {},
   "outputs": [],
   "source": [
    "# Cell 5 : if-elif-else\n",
    "\n",
    "if z % 2 == 0:  # % is the modulo operator\n",
    "    print(\"z is even, divide by 2\")\n",
    "    z = z / 2\n",
    "elif z % 2 == 1:\n",
    "    print(\"z is odd, multiply by 3 and add 1\")\n",
    "    z = 3*z + 1\n",
    "else:\n",
    "    print(\"How did you get in here?\")\n",
    "    print(\"z =\", z)\n",
    "\n",
    "print(z)\n"
   ]
  },
  {
   "cell_type": "markdown",
   "metadata": {},
   "source": [
    "### Built-In Data Structures"
   ]
  },
  {
   "cell_type": "markdown",
   "metadata": {},
   "source": [
    "Python is considered object-oriented, and provides high-level structures like lists and strings. In addition to that, Python natively supports tuples, sets, dictionaries, classes, and many more. In this tutorial we will just introduce the most important ones that you will need for this course. "
   ]
  },
  {
   "cell_type": "markdown",
   "metadata": {},
   "source": [
    "##### Strings\n",
    "\n",
    "They are immutable, can be concatenated via ``+`` operator, and support a wide range of functionality, such as split, join, find, format, and many more. Strings can be created both with single and double quotes, with no difference between these two options. Python does not have a char type and a single character is considered a string. There is a lot of built-in manipulation that you can do with Python strings, however, we will not cover Strings in too much detail."
   ]
  },
  {
   "cell_type": "code",
   "execution_count": null,
   "metadata": {},
   "outputs": [],
   "source": [
    "# Cell 6 : Strings\n",
    "\n",
    "# single-quotes inside double-quotes count as characters, and vice versa\n",
    "a = \"This is a 'random' sentence\" + \" with some attached number \" + str(12)\n",
    "\n",
    "print(a)\n",
    "print(\"It has length\", len(a))\n",
    "print(\"and type\", type(a))"
   ]
  },
  {
   "cell_type": "code",
   "execution_count": null,
   "metadata": {},
   "outputs": [],
   "source": [
    "# Cell 7 : String Operators\n",
    "\n",
    "b = \"Python strings are immutable\"\n",
    "c = \"Python strings can be concatenated with +\"\n",
    "d = \"Python strings support many built-in functions\"\n",
    "p = \"Python strings \"\n",
    "\n",
    "print(b, c.removeprefix(p), \"and \" + d.removeprefix(p), sep=\",\\n\", end=\".\")\n"
   ]
  },
  {
   "cell_type": "markdown",
   "metadata": {},
   "source": [
    "##### Lists and Sets\n",
    "\n",
    "Lists hold ordered collections of arbitrary objects that can be accessed by index. Lists are automatically managed, including memory and resizing. Note that,\n",
    "\n",
    "- Python lists aren't limited to one type\n",
    "- Python lists natively support index slicing\n",
    "\n",
    "Sets can essentially be seen as unordered lists without duplicate elements and are immutable."
   ]
  },
  {
   "cell_type": "code",
   "execution_count": null,
   "metadata": {},
   "outputs": [],
   "source": [
    "# Cell 8 : Lists\n",
    "\n",
    "l_0 = []  # empty list, alternatively use list() constructor\n",
    "l_1 = [1, 2, 3]\n",
    "l_2 = l_1\n",
    "\n",
    "print(type(l_1))\n",
    "print(l_1)\n",
    "\n",
    "l_1.append(0)\n",
    "\n",
    "# lists are mutable and subject to aliasing\n",
    "print(l_2)\n",
    "\n",
    "# lists have many build-in functions\n",
    "l_2.sort()\n",
    "l_2.reverse()\n",
    "\n",
    "# access and set elements by index\n",
    "print(l_2[3])\n"
   ]
  },
  {
   "cell_type": "code",
   "execution_count": null,
   "metadata": {},
   "outputs": [],
   "source": [
    "# Cell 9 : Sets \n",
    "\n",
    "s_0 = set()  # {} does NOT produce empty set, but an empty dict (more on that later)\n",
    "s_1 = {1, 2, \"three\", 2}\n",
    "\n",
    "print(type(s_1))\n",
    "print(s_1)\n",
    "\n",
    "# sets are immutable\n",
    "s_2 = s_1\n",
    "s_2 = s_2 - {2}\n",
    "print(s_1, \"!=\", s_2)"
   ]
  },
  {
   "cell_type": "markdown",
   "metadata": {},
   "source": [
    "##### Range and Slicing"
   ]
  },
  {
   "cell_type": "code",
   "execution_count": null,
   "metadata": {},
   "outputs": [],
   "source": [
    "# Cell 10 : Range\n",
    "\n",
    "# range(start, end, step) creates an immutable, iterable sequence object excluding \"end\",\n",
    "# but doesn't actually create a full list of the elements, making it storage efficient\n",
    "# It is used for looping and for creating large lists of integers\n",
    "\n",
    "r = range(3, 13, 2)\n",
    "print(r)\n",
    "print(list(r))\n",
    "\n",
    "l = list(range(20))  # actually constructs the list\n",
    "print(l)"
   ]
  },
  {
   "cell_type": "code",
   "execution_count": null,
   "metadata": {},
   "outputs": [],
   "source": [
    "# Cell 11 : Slice\n",
    "\n",
    "# slice(start, end, step) creates an immutable, non-iterable object representing indices\n",
    "# Usually, slice objects are indirectly created by using Python's slice indexing syntax\n",
    "\n",
    "# Object-oriented way of using slices (very rare)\n",
    "s = slice(3, 13, 2)\n",
    "print(l[s])\n",
    "\n",
    "# Pythonic way of using slices (very common)\n",
    "print(l[3:13:2])"
   ]
  },
  {
   "cell_type": "code",
   "execution_count": null,
   "metadata": {},
   "outputs": [],
   "source": [
    "# Cell 12 : Slicing\n",
    "\n",
    "# Python has a special slicing syntax, with which you can select substructures, \n",
    "# including strings and lists. Very essential for processing large datasets.\n",
    "\n",
    "# Demonstration of slicing on lists (same syntax for other structures)\n",
    "l = list(range(21))\n",
    "print(l[8:13])\n",
    "\n",
    "# omitting \"end\" will default to last index\n",
    "print(\"l[17:] -->\", l[17:])\n",
    "print(\"l[8::2] -->\", l[8::2])\n",
    "\n",
    "# omitting \"start\" will default to 0\n",
    "print(\"l[:6] -->\", l[:6])\n",
    "\n",
    "# negative \"start\" means \"the last few elements\"\n",
    "print(\"l[-3:] -->\", l[-3:])\n",
    "\n",
    "# negative \"end\" means \"everything, except the last few elements\"ArithmeticError\n",
    "print(\"l[:-7] -->\", l[:-7])\n",
    "\n",
    "# negative \"step\" reverses the list\n",
    "print(\"l[17:3:-2] -->\", l[17:3:-2])\n",
    "print(\"l[3:17:-2] -->\", l[3:17:-2])\n",
    "\n",
    "# you can also slice strings with the same syntax\n",
    "print(\"I like potatoes\"[7:12])"
   ]
  },
  {
   "cell_type": "markdown",
   "metadata": {},
   "source": [
    "##### Dictionaries\n",
    "\n",
    "Dictionaries (dicts) are tables of key-value pairs, a.k.a. hashmaps. Just like lists, dicts are native to Python and therefore well integrated into the language. They are automatically managed by Python, including memory and resizing. The keys have to be hashable, meaning they must be some immutable data-type, e.g. int, float, string, tuple. The type of dict values can be arbitrary."
   ]
  },
  {
   "cell_type": "code",
   "execution_count": null,
   "metadata": {},
   "outputs": [],
   "source": [
    "# Cell 13 : Dictionaries\n",
    "\n",
    "d_0 = {}  # empty dict\n",
    "d_1 = {\"key\":1, \"another_key\":5}  # create dict via set of key:value pairs\n",
    "d_2 = {1 : 0.1,        # key=int    , value=float\n",
    "       2.0 : 0.2,      # key=float  , value=float\n",
    "       \"three\" : 3,    # key=string , value=int\n",
    "       (4, 1) : d_1}   # key=tuple  , value=dict\n",
    "\n",
    "# access dict entry by providing the key\n",
    "x = d_2[\"three\"]\n",
    "\n",
    "# make new dict entries\n",
    "d_2[\"new_key\"] = \"new_value\"\n",
    "\n",
    "# delete old dict entries\n",
    "del d_2[\"three\"]\n",
    "\n",
    "# \"in\" operator (also works for other structures like sets, strings, lists, and tuples)\n",
    "boolean_1 = \"three\" in d_2\n",
    "boolean_2 = 5 in d_2.values()\n",
    "print(\"Does the dict have a key called 'three'? --->\", boolean_1)\n",
    "print(\"Is one of the values a 5? --->\", boolean_2)\n",
    "\n",
    "print(d_2)"
   ]
  },
  {
   "cell_type": "markdown",
   "metadata": {},
   "source": [
    "### Conditional statements and Loops"
   ]
  },
  {
   "cell_type": "markdown",
   "metadata": {},
   "source": [
    "Conditional statements execute lines of code is a specific condition is met.\n",
    "To do so, Python uses the keywords ``if``, ``elif`` and ``else``. \n",
    "\n",
    "Conditions can be formulated with the following non-exhaustive list of symbols/keywords:\n",
    "\n",
    "| Symbol / Keyword | Meaning |\n",
    "| ---------------- | ------- |\n",
    "| ``==``           | Checks equality |\n",
    "| ``!=``           | Checks inquality |\n",
    "| ``<``            | Checks if one variable is less than the other |\n",
    "| ``<=``           | Checks if one variable is less than or equal to another |\n",
    "| ``and``          | Combines two conditions such that both must be met |\n",
    "| ``or``           | Combines two conditions such that at least one must be met |\n",
    "| ``all``          | Checks if all conditions (given by a list) are True |\n",
    "| ``any``          | Checks if any condition from a list is True |\n",
    "| ``in``           | Checks if a variable is in a list |\n"
   ]
  },
  {
   "cell_type": "code",
   "execution_count": null,
   "metadata": {},
   "outputs": [],
   "source": [
    "# Cell 14: Conditional statements\n",
    "\n",
    "if 2 <= 3:\n",
    "    print(\"Yes!\")\n",
    "\n",
    "if 3 in [1, 2, 3, 4]:\n",
    "    print(\"Yes!\")\n",
    "else:\n",
    "    print(\"No...\")\n",
    "\n",
    "x = 3\n",
    "if type(x) == str:\n",
    "    print(\"x is a string\")\n",
    "elif type(x) == int or type(x) == float:\n",
    "    if x >= 0:\n",
    "        print(\"x is a positive number (or zero)\")\n",
    "    else:\n",
    "        print(\"x is a negative number\")\n",
    "else:\n",
    "    print(\"x has some other type...\")"
   ]
  },
  {
   "cell_type": "markdown",
   "metadata": {},
   "source": [
    "In Python there is while-loops and for-loops. For-loops in Python always loop through elements of an iterable object. Keywords like ``break`` and ``continue`` are available in Python. To encapsulate code blocks, Python uses indentation rather than curly brackets. "
   ]
  },
  {
   "cell_type": "code",
   "execution_count": null,
   "metadata": {},
   "outputs": [],
   "source": [
    "# Cell 15 : While-Loops\n",
    "\n",
    "# while CONDITION:\n",
    "#     CODE LINE 1\n",
    "#     CODE LINE 2\n",
    "#     CODE LINE N\n",
    "\n",
    "# find the biggest exponent n of 3, such that 3^n <= 2^10\n",
    "n = 0\n",
    "while 3**n <= 2**10:  # ** is exponentiation operator, 2**0.5 == sqrt(2)\n",
    "    print(n, 3**n)\n",
    "    n += 1\n",
    "\n",
    "print(\"3^\"+str(n-1)+\" < 2^10 < 3^\"+str(n))\n",
    "print(3**(n-1), \"<\", 2**10, \"<\", 3**(n))"
   ]
  },
  {
   "cell_type": "code",
   "execution_count": null,
   "metadata": {},
   "outputs": [],
   "source": [
    "# Cell 16 : For-Loops\n",
    "\n",
    "# for i in iterable:\n",
    "#     CODE LINE 1\n",
    "#     CODE LINE 2\n",
    "#     CODE LINE N\n",
    "\n",
    "# gauss sum of n\n",
    "z = 0\n",
    "n = 10\n",
    "your_iterable_object = range(n+1)  # can be tuple, set, string, list, dict, etc.\n",
    "for i in your_iterable_object:\n",
    "    z += i\n",
    "print(z)"
   ]
  },
  {
   "cell_type": "code",
   "execution_count": null,
   "metadata": {},
   "outputs": [],
   "source": [
    "# Cell 17 : For-Loop Dictionaries\n",
    "\n",
    "# When iterating tuple, set, string, or list, the loop iterates through the values (obviously)\n",
    "# but when iterating a dict, the loop iterates through the keys by default\n",
    "\n",
    "d = {\"a_key\":\"a_value\", \"another_key\":\"different_value\"}\n",
    "for i in d:\n",
    "    print(i)\n",
    "\n",
    "# You can iterate a dicts values by looping through d.values(), or\n",
    "# iterate tuples of (key, value) by looping through d.items()\n",
    "for k,v in d.items():\n",
    "    print(k, \":\", v)"
   ]
  },
  {
   "cell_type": "code",
   "execution_count": null,
   "metadata": {},
   "outputs": [],
   "source": [
    "# Cell 18 : For-Loop with Index --> Enumerate\n",
    "\n",
    "# When iterating ordered structures like tuples, strings or lists, you might want to \n",
    "# also get access to the corresponding indices by enumerating\n",
    "\n",
    "l = [5, 8, 1, 263, 289, 50]\n",
    "for index, value in enumerate(l):\n",
    "    print(index, value)"
   ]
  },
  {
   "cell_type": "markdown",
   "metadata": {},
   "source": [
    "### Functions\n",
    "\n",
    "In Python, functions are objects that are created with the `def` keyword, followed by the function name and its arguments. Neither the return type, nor the argument types have to be specified, and functions can be called with any argument types.\n",
    "\n",
    "If Python encounters a function definition with a name already in use, it will simply overwrite the old definition, even for Python's native functions like `list`, `type` or `print`."
   ]
  },
  {
   "cell_type": "code",
   "execution_count": null,
   "metadata": {},
   "outputs": [],
   "source": [
    "# Cell 19 : Functions\n",
    "\n",
    "# def FUNCTIONNAME(ARGUMENT1, ARGUMENT2, ...):\n",
    "#     CODE LINE 1\n",
    "#     CODE LINE 2\n",
    "#     CODE LINE N\n",
    "#     return SOMETHING (optional)\n",
    "\n",
    "# note: if your function does not have a return statement, it will return a \"None\"-object\n",
    "\n",
    "def linear_function(x, slope, intercept):\n",
    "    return slope*x + intercept\n",
    "\n",
    "y = linear_function(3, 2, 1)\n",
    "print(y)"
   ]
  },
  {
   "cell_type": "markdown",
   "metadata": {},
   "source": [
    "##### Optional Arguments in Functions\n",
    "\n",
    " If you want to make optional arguments for functions, you can easily do so by providing a default value to the specific argument inside the header. Arguments without a default value are called \"positional arguments\", and arguments with default value are called \"keyword arguments\". Regardless if its a function definition or a function call, all positional arguments must be placed before all keyword arguments."
   ]
  },
  {
   "cell_type": "code",
   "execution_count": null,
   "metadata": {},
   "outputs": [],
   "source": [
    "# Cell 20 : Functions with Keyword Arguments\n",
    "\n",
    "def quadratic_function(x, a=1, b=0, c=0):\n",
    "    return a*x*x + b*x + c\n",
    "\n",
    "# calling without optionals takes the default values\n",
    "print(quadratic_function(4))\n",
    "\n",
    "# calling with specified keywords\n",
    "print(quadratic_function(4, a=2, c=7))  # b=0 (default)\n",
    "\n",
    "# calling without specified keyword (inferred by order)\n",
    "print(quadratic_function(4, 2, 7))  # b=7 and c=0 (default)\n",
    "\n",
    "# calling with only specifying some keywords (keyworded arguments at the end)\n",
    "print(quadratic_function(4, 2, c=7))"
   ]
  },
  {
   "cell_type": "markdown",
   "metadata": {},
   "source": [
    "When you use a Python library (such as scikit-learn for example), you will see functions with headers that contain ``*args`` and/or ``**kwargs``. These allow for arbitrarily many arguments to be passed to a function, which is often used to pass hyper-parameters to an algorithm without the need to construct large config objects. ``*args`` takes an arbitrary length of positional arguments (order _is_ relevant), and ``**kwargs`` takes an arbitrary length of keyworded arguments (order is _not_ relevant)."
   ]
  },
  {
   "cell_type": "code",
   "execution_count": null,
   "metadata": {},
   "outputs": [],
   "source": [
    "# Cell 21 : Functions with *args and/or **kwargs\n",
    "\n",
    "# If the function has *args in its header, all excess positional arguments\n",
    "# are collected and are available as a tuple (called \"args\", without the star) \n",
    "# inside the function body. The same applies to **kwargs, but for keyworded\n",
    "# arguments. It will be available as a dict (as \"kwargs\", without stars)\n",
    "\n",
    "def arg_example_function(arg_1, arg_2, *args, kwarg_1=None, kwarg_2=None, **kwargs):\n",
    "\n",
    "    if args:  # empty tuple, list, dict, etc. evaluate to False\n",
    "        print(\"args is of type\", type(args))\n",
    "        print(\"and contains:\")\n",
    "        for arg in args:\n",
    "            print(arg)\n",
    "    \n",
    "    if kwargs:\n",
    "        print(\"kwargs is of type\", type(kwargs))\n",
    "        print(\"and contains:\")\n",
    "        for k, v in kwargs.items():\n",
    "            print(k, v)\n",
    "\n",
    "arg_example_function(1, 2, 3, 4, 5, \"six\", \n",
    "                     (\"s\", \"e\", \"v\", \"e\", \"n\"), \n",
    "                     8, 9, kwarg_2 = 4, kwarg_3=[1, 2, 3], \n",
    "                     any_argument_name=\"any_value\")\n",
    "\n",
    "# side-note: you can split lines to multi-lines, as long as those are encapsulated by brackets\n",
    "# or by using backslash \\"
   ]
  },
  {
   "cell_type": "markdown",
   "metadata": {},
   "source": [
    "## Syntactic sugar\n",
    "\n",
    "Python offers some short notations for frequently used statements. In fact, we have already used many of those above. \n",
    "\n",
    "The following list of statements is meant to give you an overview but doesn't claim to be complete."
   ]
  },
  {
   "cell_type": "code",
   "execution_count": null,
   "metadata": {},
   "outputs": [],
   "source": [
    "# Cell 22 : Syntactic sugar\n",
    "\n",
    "# Add / multiply / subtract / divide a given value by another one\n",
    "x = 10\n",
    "x += 5\n",
    "print(x)\n",
    "x -= 3\n",
    "print(x)\n",
    "x *= 4\n",
    "print(x)\n",
    "x /= 2\n",
    "print(x)\n",
    "\n",
    "print(x**2)\n",
    "\n",
    "# Check if element is in a list\n",
    "some_prime_numbers = [2, 3, 5, 7, 11, 13, 17, 19]\n",
    "print(3 in some_prime_numbers)\n",
    "print(4 in some_prime_numbers)\n",
    "\n",
    "# Perform an operation on all elements of a list, a.k.a. \"List comprehension\"\n",
    "print([y**2 for y in some_prime_numbers])\n",
    "# Similar syntax exists for dictionaries\n",
    "\n",
    "# \"Complex\" conditions\n",
    "print(2 <= 3 < 5)\n",
    "\n",
    "# Conditional variable assignment\n",
    "v = \"Hello\" if 2 < -1 else \"Good bye!\"\n",
    "print(v)"
   ]
  },
  {
   "cell_type": "markdown",
   "metadata": {},
   "source": [
    "### Importing Modules"
   ]
  },
  {
   "cell_type": "code",
   "execution_count": null,
   "metadata": {},
   "outputs": [],
   "source": [
    "# Just importing a module\n",
    "import math\n",
    "\n",
    "# Access via . notation\n",
    "print(math.sqrt(2))"
   ]
  },
  {
   "cell_type": "code",
   "execution_count": null,
   "metadata": {},
   "outputs": [],
   "source": [
    "# Importing a module and making it available under a different name\n",
    "import numpy as np\n",
    "\n",
    "# Access via . notation\n",
    "a = np.array([1, 2, 3, 4, 5, 6, 7, 8, 9, 10])\n",
    "print(a)\n",
    "print(a.mean(), a.std())"
   ]
  },
  {
   "cell_type": "code",
   "execution_count": null,
   "metadata": {},
   "outputs": [],
   "source": [
    "# Importing specific functions from a module\n",
    "from math import sqrt, exp, log\n",
    "\n",
    "# Access without . notation, no math.xyz allowed as you didn't import the math module\n",
    "print(sqrt(2))\n",
    "print(exp(4))\n",
    "print(log(12))"
   ]
  },
  {
   "cell_type": "code",
   "execution_count": null,
   "metadata": {},
   "outputs": [],
   "source": [
    "# Importing a submodule and making it available under a changed name\n",
    "import matplotlib.pyplot as plt\n",
    "\n",
    "x = [1, 2, 3, 4, 5, 6, 7, 8, 9, 10]\n",
    "y = []\n",
    "for n in x:\n",
    "    y.append(1/n)\n",
    "\n",
    "plt.plot(x, y)"
   ]
  },
  {
   "cell_type": "markdown",
   "metadata": {},
   "source": [
    "### Overview of Modules used in BA&ML\n",
    "\n",
    "| package | usage |\n",
    "| ------- | ----- |\n",
    "| numpy   | efficiently implemented math operations |\n",
    "| pandas  | processing large datasets |\n",
    "| pyplot  | plotting |\n",
    "| sklearn | machine learning |\n",
    "| pytorch | deep learning (will be installed in a later) |"
   ]
  },
  {
   "cell_type": "code",
   "execution_count": null,
   "metadata": {},
   "outputs": [],
   "source": [
    "import numpy as np\n",
    "import pandas as pd\n",
    "import matplotlib.pyplot as plt\n",
    "import sklearn as skl\n",
    "# import torch as pt"
   ]
  },
  {
   "cell_type": "markdown",
   "metadata": {},
   "source": [
    "## Conclusion\n",
    "\n",
    "There is a lot more to learn about Python, but this tutorial should get you going to be able to understand most basic Python code. Keep in mind that neither is this tutorial detailed in what it covered, nor extensive. Other than the features briefly introduced here, Python natively supports:\n",
    "\n",
    "- classes and inheritance\n",
    "- assertions\n",
    "- exceptions\n",
    "- I/O files\n",
    "- comprehensions\n",
    "- generators\n",
    "- and many more ...\n",
    "\n",
    "And if Python doesn't support it natively, then there most likely is a package for that. We encourage you to properly learn Python, because it gets more and more relevant by the day."
   ]
  }
 ],
 "metadata": {
  "kernelspec": {
   "display_name": "Python 3 (ipykernel)",
   "language": "python",
   "name": "python3"
  },
  "language_info": {
   "codemirror_mode": {
    "name": "ipython",
    "version": 3
   },
   "file_extension": ".py",
   "mimetype": "text/x-python",
   "name": "python",
   "nbconvert_exporter": "python",
   "pygments_lexer": "ipython3",
   "version": "3.11.4"
  }
 },
 "nbformat": 4,
 "nbformat_minor": 4
}
