{
 "cells": [
  {
   "cell_type": "markdown",
   "metadata": {},
   "source": [
    "### Oktoberfest Beer Data"
   ]
  },
  {
   "cell_type": "markdown",
   "metadata": {},
   "source": [
    "a) Read the provided \"Oktoberfest.csv\" into a pandas dataframe."
   ]
  },
  {
   "cell_type": "code",
   "execution_count": null,
   "metadata": {},
   "outputs": [],
   "source": [
    "import pandas as pd\n",
    "df = pd.read_csv(\"Oktoberfest.csv\")"
   ]
  },
  {
   "cell_type": "markdown",
   "metadata": {},
   "source": [
    "b) Which attributes does the dataset have?"
   ]
  },
  {
   "cell_type": "code",
   "execution_count": null,
   "metadata": {},
   "outputs": [],
   "source": [
    "print(df.columns)\n",
    "df.head(10)"
   ]
  },
  {
   "cell_type": "markdown",
   "metadata": {},
   "source": [
    "c) What was the price of a beer in 1995? Locate the value using .loc"
   ]
  },
  {
   "cell_type": "code",
   "execution_count": null,
   "metadata": {},
   "outputs": [],
   "source": [
    "x = df.loc[df[\"Year\"]==1995, \"Beer_Price\"]\n",
    "print(x)  # x.iloc[0]"
   ]
  },
  {
   "cell_type": "markdown",
   "metadata": {},
   "source": [
    "d) Based on the dataset, when did the city of Munich first record the beer price?"
   ]
  },
  {
   "cell_type": "code",
   "execution_count": null,
   "metadata": {},
   "outputs": [],
   "source": [
    "first_year_recorded = df[\"Year\"].min()\n",
    "print(first_year_recorded)"
   ]
  },
  {
   "cell_type": "markdown",
   "metadata": {},
   "source": [
    "e) What is the value range of the attribute \"Visitors_Total\"?"
   ]
  },
  {
   "cell_type": "code",
   "execution_count": null,
   "metadata": {},
   "outputs": [],
   "source": [
    "v_min = df[\"Visitors_Total\"].min()\n",
    "v_max = df[\"Visitors_Total\"].max()\n",
    "print(\"Value Range for Visitors_Total:\", v_min, \" - \", v_max)"
   ]
  },
  {
   "cell_type": "markdown",
   "metadata": {},
   "source": [
    "f) Plot the beer consumption over the years."
   ]
  },
  {
   "cell_type": "code",
   "execution_count": null,
   "metadata": {},
   "outputs": [],
   "source": [
    "df.plot(x = \"Year\", y = \"Beer_Consumption\")"
   ]
  },
  {
   "cell_type": "markdown",
   "metadata": {},
   "source": [
    "g) Create a scatterplot that shows the number of visitors per year. Calculate an\n",
    "appropriate statistic to validate or reject the explanation, that increased\n",
    "beer consumption is driven by increase in total visitors."
   ]
  },
  {
   "cell_type": "code",
   "execution_count": null,
   "metadata": {},
   "outputs": [],
   "source": [
    "df.plot.scatter(x = \"Year\", y = \"Visitors_Total\")\n",
    "print(\"correlation =\", round(df[\"Visitors_Total\"].corr(df[\"Beer_Consumption\"]), 3))\n",
    "\n",
    "# Alternatively, compute full correlation matrix\n",
    "# df.corr() "
   ]
  },
  {
   "cell_type": "markdown",
   "metadata": {},
   "source": [
    "The correlation of Visitors_Total and Beer_Consumption is almost zero, and even\n",
    "slightly negative, which suggests that the increase in Beer_Consumption over the \n",
    "years is not due to an increase in Visitors_Total."
   ]
  },
  {
   "cell_type": "markdown",
   "metadata": {},
   "source": [
    "h) Compute the mean and the variance of \"Beer_Price\" during the period from 2000 to 2007"
   ]
  },
  {
   "cell_type": "code",
   "execution_count": null,
   "metadata": {},
   "outputs": [],
   "source": [
    "# We construct a bit-mask first\n",
    "mask = (2000 <= df[\"Year\"]) & (df[\"Year\"] <= 2007)\n",
    "mean = df[mask][\"Beer_Price\"].mean()\n",
    "var = df[mask][\"Beer_Price\"].var()\n",
    "print(\"mean =\", mean)\n",
    "print(\"var =\", var)"
   ]
  },
  {
   "cell_type": "markdown",
   "metadata": {},
   "source": [
    "Add a new column to the dataframe describing the difference of beer prices\n",
    "between 2 consecutive years. Plot this difference against \"Year\""
   ]
  },
  {
   "cell_type": "code",
   "execution_count": null,
   "metadata": {},
   "outputs": [],
   "source": [
    "df[\"Beer_Price_Increase\"] = df[\"Beer_Price\"] - df[\"Beer_Price\"].shift(1)\n",
    "df.plot(x=\"Year\", y=\"Beer_Price_Increase\")"
   ]
  }
 ],
 "metadata": {
  "kernelspec": {
   "display_name": "Python 3 (ipykernel)",
   "language": "python",
   "name": "python3"
  },
  "language_info": {
   "codemirror_mode": {
    "name": "ipython",
    "version": 3
   },
   "file_extension": ".py",
   "mimetype": "text/x-python",
   "name": "python",
   "nbconvert_exporter": "python",
   "pygments_lexer": "ipython3",
   "version": "3.10.6"
  }
 },
 "nbformat": 4,
 "nbformat_minor": 2
}
