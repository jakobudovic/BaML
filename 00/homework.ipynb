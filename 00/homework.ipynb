{
 "cells": [
  {
   "cell_type": "markdown",
   "id": "cd3a8ad4",
   "metadata": {},
   "source": [
    "# Homework sheet 0: Data-IO"
   ]
  },
  {
   "cell_type": "code",
   "execution_count": 1,
   "id": "cbed9779",
   "metadata": {},
   "outputs": [],
   "source": [
    "import pandas as pd\n",
    "import numpy as np\n",
    "import matplotlib.pyplot as plt"
   ]
  },
  {
   "cell_type": "markdown",
   "id": "aacf1eb9",
   "metadata": {},
   "source": [
    "## Exercise H0.1 Loading and Describing Data with Pandas"
   ]
  },
  {
   "cell_type": "markdown",
   "id": "5f98649c",
   "metadata": {},
   "source": [
    "a) Read \"LaborSupply1988.csv\" into a pandas dataframe."
   ]
  },
  {
   "cell_type": "code",
   "execution_count": 2,
   "id": "be5a8195",
   "metadata": {},
   "outputs": [
    {
     "data": {
      "text/html": [
       "<div>\n",
       "<style scoped>\n",
       "    .dataframe tbody tr th:only-of-type {\n",
       "        vertical-align: middle;\n",
       "    }\n",
       "\n",
       "    .dataframe tbody tr th {\n",
       "        vertical-align: top;\n",
       "    }\n",
       "\n",
       "    .dataframe thead th {\n",
       "        text-align: right;\n",
       "    }\n",
       "</style>\n",
       "<table border=\"1\" class=\"dataframe\">\n",
       "  <thead>\n",
       "    <tr style=\"text-align: right;\">\n",
       "      <th></th>\n",
       "      <th>lnhr</th>\n",
       "      <th>lnwg</th>\n",
       "      <th>kids</th>\n",
       "      <th>age</th>\n",
       "      <th>disab</th>\n",
       "    </tr>\n",
       "  </thead>\n",
       "  <tbody>\n",
       "    <tr>\n",
       "      <th>0</th>\n",
       "      <td>7.82</td>\n",
       "      <td>1.98</td>\n",
       "      <td>2</td>\n",
       "      <td>36</td>\n",
       "      <td>0</td>\n",
       "    </tr>\n",
       "    <tr>\n",
       "      <th>1</th>\n",
       "      <td>7.63</td>\n",
       "      <td>1.79</td>\n",
       "      <td>0</td>\n",
       "      <td>44</td>\n",
       "      <td>0</td>\n",
       "    </tr>\n",
       "    <tr>\n",
       "      <th>2</th>\n",
       "      <td>7.62</td>\n",
       "      <td>2.64</td>\n",
       "      <td>0</td>\n",
       "      <td>35</td>\n",
       "      <td>1</td>\n",
       "    </tr>\n",
       "    <tr>\n",
       "      <th>3</th>\n",
       "      <td>8.01</td>\n",
       "      <td>1.98</td>\n",
       "      <td>2</td>\n",
       "      <td>31</td>\n",
       "      <td>0</td>\n",
       "    </tr>\n",
       "    <tr>\n",
       "      <th>4</th>\n",
       "      <td>7.73</td>\n",
       "      <td>2.56</td>\n",
       "      <td>2</td>\n",
       "      <td>41</td>\n",
       "      <td>0</td>\n",
       "    </tr>\n",
       "  </tbody>\n",
       "</table>\n",
       "</div>"
      ],
      "text/plain": [
       "   lnhr  lnwg  kids  age  disab\n",
       "0  7.82  1.98     2   36      0\n",
       "1  7.63  1.79     0   44      0\n",
       "2  7.62  2.64     0   35      1\n",
       "3  8.01  1.98     2   31      0\n",
       "4  7.73  2.56     2   41      0"
      ]
     },
     "execution_count": 2,
     "metadata": {},
     "output_type": "execute_result"
    }
   ],
   "source": [
    "df = pd.read_csv(\"LaborSupply1988.csv\")\n",
    "df.head()"
   ]
  },
  {
   "cell_type": "markdown",
   "id": "55cae687",
   "metadata": {},
   "source": [
    "b) Determine the amount of attributes and datapoints inside the dataframe."
   ]
  },
  {
   "cell_type": "code",
   "execution_count": 3,
   "id": "c43bf650",
   "metadata": {},
   "outputs": [
    {
     "data": {
      "text/plain": [
       "(532, 5)"
      ]
     },
     "execution_count": 3,
     "metadata": {},
     "output_type": "execute_result"
    }
   ],
   "source": [
    "df.shape"
   ]
  },
  {
   "cell_type": "markdown",
   "id": "85d585c5",
   "metadata": {},
   "source": [
    "c) Which attributes does the dataset have?"
   ]
  },
  {
   "cell_type": "code",
   "execution_count": 4,
   "id": "eb2fcb45",
   "metadata": {},
   "outputs": [
    {
     "data": {
      "text/plain": [
       "Index(['lnhr', 'lnwg', 'kids', 'age', 'disab'], dtype='object')"
      ]
     },
     "execution_count": 4,
     "metadata": {},
     "output_type": "execute_result"
    }
   ],
   "source": [
    "df.columns"
   ]
  },
  {
   "cell_type": "markdown",
   "id": "bb472782",
   "metadata": {},
   "source": [
    "d) Have a look at the first 10 datapoints."
   ]
  },
  {
   "cell_type": "code",
   "execution_count": 9,
   "id": "0a646e88",
   "metadata": {},
   "outputs": [
    {
     "data": {
      "text/html": [
       "<div>\n",
       "<style scoped>\n",
       "    .dataframe tbody tr th:only-of-type {\n",
       "        vertical-align: middle;\n",
       "    }\n",
       "\n",
       "    .dataframe tbody tr th {\n",
       "        vertical-align: top;\n",
       "    }\n",
       "\n",
       "    .dataframe thead th {\n",
       "        text-align: right;\n",
       "    }\n",
       "</style>\n",
       "<table border=\"1\" class=\"dataframe\">\n",
       "  <thead>\n",
       "    <tr style=\"text-align: right;\">\n",
       "      <th></th>\n",
       "      <th>lnhr</th>\n",
       "      <th>lnwg</th>\n",
       "      <th>kids</th>\n",
       "      <th>age</th>\n",
       "      <th>disab</th>\n",
       "    </tr>\n",
       "  </thead>\n",
       "  <tbody>\n",
       "    <tr>\n",
       "      <th>0</th>\n",
       "      <td>7.82</td>\n",
       "      <td>1.98</td>\n",
       "      <td>2</td>\n",
       "      <td>36</td>\n",
       "      <td>0</td>\n",
       "    </tr>\n",
       "    <tr>\n",
       "      <th>1</th>\n",
       "      <td>7.63</td>\n",
       "      <td>1.79</td>\n",
       "      <td>0</td>\n",
       "      <td>44</td>\n",
       "      <td>0</td>\n",
       "    </tr>\n",
       "    <tr>\n",
       "      <th>2</th>\n",
       "      <td>7.62</td>\n",
       "      <td>2.64</td>\n",
       "      <td>0</td>\n",
       "      <td>35</td>\n",
       "      <td>1</td>\n",
       "    </tr>\n",
       "    <tr>\n",
       "      <th>3</th>\n",
       "      <td>8.01</td>\n",
       "      <td>1.98</td>\n",
       "      <td>2</td>\n",
       "      <td>31</td>\n",
       "      <td>0</td>\n",
       "    </tr>\n",
       "    <tr>\n",
       "      <th>4</th>\n",
       "      <td>7.73</td>\n",
       "      <td>2.56</td>\n",
       "      <td>2</td>\n",
       "      <td>41</td>\n",
       "      <td>0</td>\n",
       "    </tr>\n",
       "    <tr>\n",
       "      <th>5</th>\n",
       "      <td>7.69</td>\n",
       "      <td>2.76</td>\n",
       "      <td>1</td>\n",
       "      <td>40</td>\n",
       "      <td>0</td>\n",
       "    </tr>\n",
       "    <tr>\n",
       "      <th>6</th>\n",
       "      <td>8.35</td>\n",
       "      <td>2.45</td>\n",
       "      <td>2</td>\n",
       "      <td>53</td>\n",
       "      <td>0</td>\n",
       "    </tr>\n",
       "    <tr>\n",
       "      <th>7</th>\n",
       "      <td>7.69</td>\n",
       "      <td>2.18</td>\n",
       "      <td>0</td>\n",
       "      <td>46</td>\n",
       "      <td>0</td>\n",
       "    </tr>\n",
       "    <tr>\n",
       "      <th>8</th>\n",
       "      <td>7.67</td>\n",
       "      <td>2.79</td>\n",
       "      <td>2</td>\n",
       "      <td>36</td>\n",
       "      <td>0</td>\n",
       "    </tr>\n",
       "    <tr>\n",
       "      <th>9</th>\n",
       "      <td>7.74</td>\n",
       "      <td>2.93</td>\n",
       "      <td>0</td>\n",
       "      <td>55</td>\n",
       "      <td>0</td>\n",
       "    </tr>\n",
       "  </tbody>\n",
       "</table>\n",
       "</div>"
      ],
      "text/plain": [
       "   lnhr  lnwg  kids  age  disab\n",
       "0  7.82  1.98     2   36      0\n",
       "1  7.63  1.79     0   44      0\n",
       "2  7.62  2.64     0   35      1\n",
       "3  8.01  1.98     2   31      0\n",
       "4  7.73  2.56     2   41      0\n",
       "5  7.69  2.76     1   40      0\n",
       "6  8.35  2.45     2   53      0\n",
       "7  7.69  2.18     0   46      0\n",
       "8  7.67  2.79     2   36      0\n",
       "9  7.74  2.93     0   55      0"
      ]
     },
     "execution_count": 9,
     "metadata": {},
     "output_type": "execute_result"
    }
   ],
   "source": [
    "df.head(10)"
   ]
  },
  {
   "cell_type": "markdown",
   "id": "dea23f8c",
   "metadata": {},
   "source": [
    "e) Determine the value range of the attribute \"age\"."
   ]
  },
  {
   "cell_type": "code",
   "execution_count": 11,
   "id": "91ff3cf2",
   "metadata": {},
   "outputs": [
    {
     "data": {
      "text/plain": [
       "(31, 60)"
      ]
     },
     "execution_count": 11,
     "metadata": {},
     "output_type": "execute_result"
    }
   ],
   "source": [
    "df.age.min(), df.age.max()"
   ]
  },
  {
   "cell_type": "markdown",
   "id": "65c887b2",
   "metadata": {},
   "source": [
    "f) Compute the average of log annual hours (lnhr) worked by the labourers with 0, 1, . . ., 6 kids each.\n",
    "Hint: .groupby()"
   ]
  },
  {
   "cell_type": "code",
   "execution_count": 21,
   "id": "69a58717",
   "metadata": {},
   "outputs": [
    {
     "data": {
      "text/plain": [
       "kids\n",
       "0    7.640549\n",
       "1    7.681368\n",
       "2    7.713586\n",
       "3    7.678415\n",
       "4    7.724500\n",
       "5    7.760000\n",
       "6    7.895000\n",
       "Name: lnhr, dtype: float64"
      ]
     },
     "execution_count": 21,
     "metadata": {},
     "output_type": "execute_result"
    }
   ],
   "source": [
    "df.groupby(\"kids\").lnhr.mean()"
   ]
  },
  {
   "cell_type": "markdown",
   "id": "ad82e581",
   "metadata": {},
   "source": [
    "g) Compute the average number of kids of the 40 year olds."
   ]
  },
  {
   "cell_type": "code",
   "execution_count": 37,
   "id": "37b80779",
   "metadata": {},
   "outputs": [
    {
     "name": "stdout",
     "output_type": "stream",
     "text": [
      "1.971\n"
     ]
    }
   ],
   "source": [
    "print(f\"{df[df.age == 40].kids.mean():.4}\")"
   ]
  },
  {
   "cell_type": "markdown",
   "id": "d31453e1",
   "metadata": {},
   "source": [
    "## Exercise H0.2 Plotting Data with Pandas and Matplotlib.Pyplot"
   ]
  },
  {
   "cell_type": "code",
   "execution_count": null,
   "id": "5e73f43a",
   "metadata": {},
   "outputs": [],
   "source": []
  }
 ],
 "metadata": {
  "kernelspec": {
   "display_name": "Python 3 (ipykernel)",
   "language": "python",
   "name": "python3"
  },
  "language_info": {
   "codemirror_mode": {
    "name": "ipython",
    "version": 3
   },
   "file_extension": ".py",
   "mimetype": "text/x-python",
   "name": "python",
   "nbconvert_exporter": "python",
   "pygments_lexer": "ipython3",
   "version": "3.10.6"
  }
 },
 "nbformat": 4,
 "nbformat_minor": 5
}
