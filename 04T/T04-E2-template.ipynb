{
 "cells": [
  {
   "cell_type": "markdown",
   "metadata": {},
   "source": [
    "# Cookie factory"
   ]
  },
  {
   "cell_type": "markdown",
   "metadata": {},
   "source": [
    "You are the manager of a company which produces cookies and you want to introduce a new product. Your R\\&D department has proposed and developed the following two alternatives:\n",
    "\n",
    "1. Unicorn cookies (UC)\n",
    "2. Vanilla-chip cookies (VC).\n",
    "\n",
    "As part of your market research, you are interested in predicting whether certain customers are likely to buy one of the new products. For that, you have already collected data from a large number of test persons.\n",
    "In particular, you asked them to fill out a query with the following questions:\n",
    "\n",
    "\n",
    "1. How old are you? (variable $age$)\n",
    "2. What do you think is the most fascinating: Rainbows, Black holes or Cats? (variable $preferences$)\n",
    "3. How much money do you spend on cookies per month? (variable $money$)\n",
    "4. Which of our cookies would you buy? (variable $product$)  \n",
    "   *Note*: The variable $product$ can also take on the value \"No product\" (NP).\n",
    "\n",
    "You can find the data in *cookie-factory.csv*."
   ]
  },
  {
   "cell_type": "markdown",
   "metadata": {},
   "source": [
    "## Imports and data"
   ]
  },
  {
   "cell_type": "code",
   "execution_count": null,
   "metadata": {},
   "outputs": [],
   "source": [
    "import numpy as np\n",
    "import pandas as pd\n",
    "\n",
    "import matplotlib.pyplot as plt\n",
    "\n",
    "import scipy.stats as dists"
   ]
  },
  {
   "cell_type": "code",
   "execution_count": null,
   "metadata": {},
   "outputs": [],
   "source": [
    "data = pd.read_csv(\"cookie-factory.csv\")\n",
    "data.head()"
   ]
  },
  {
   "cell_type": "markdown",
   "metadata": {},
   "source": [
    "## Data visualization\n",
    "\n",
    "Nothing to do here..."
   ]
  },
  {
   "cell_type": "code",
   "execution_count": null,
   "metadata": {},
   "outputs": [],
   "source": [
    "fig, axs = plt.subplots(1, 3, figsize=(20, 6))\n",
    "\n",
    "x = data[\"product\"].replace([\"No product\", \"Unicorn\", \"Vanilla\"], [0, 1, 2])\n",
    "x += np.random.uniform(-0.2, 0.2, len(data))\n",
    "\n",
    "axs[0].scatter(x, data[\"age\"], alpha=0.2)\n",
    "axs[0].set_title(\"Age\")\n",
    "axs[0].set_xticks([0, 1, 2])\n",
    "axs[0].set_xticklabels([\"No product\", \"Unicorn\", \"Vanilla\"])\n",
    "\n",
    "prefs = data[\"preferences\"].replace([\"Rainbows\", \"Black holes\", \"Cats\"], [0, 1, 2])\n",
    "prefs += np.random.uniform(-0.2, 0.2, len(data))\n",
    "axs[1].scatter(x, prefs, alpha=0.2)\n",
    "axs[1].set_title(\"Preferences\")\n",
    "axs[1].set_xticks([0, 1, 2])\n",
    "axs[1].set_xticklabels([\"No product\", \"Unicorn\", \"Vanilla\"])\n",
    "axs[1].set_yticks([0, 1, 2])\n",
    "axs[1].set_yticklabels([\"Rainbows\", \"Black holes\", \"Cats\"])\n",
    "\n",
    "\n",
    "axs[2].scatter(x, data[\"money\"], alpha=0.2)\n",
    "axs[2].set_xticks([0, 1, 2])\n",
    "axs[2].set_title(\"Money\")\n",
    "axs[2].set_xticklabels([\"No product\", \"Unicorn\", \"Vanilla\"]);\n"
   ]
  },
  {
   "cell_type": "markdown",
   "metadata": {},
   "source": [
    "## a)\n",
    "\n",
    "For each of the questions 1-4, decide\n",
    "- whether the answers are continuous or discrete outcomes,\n",
    "- which range the outcomes could have\n",
    "- to which scale of measurement (nominal, ordinal, interval, ratio) the outcomes belong to."
   ]
  },
  {
   "cell_type": "markdown",
   "metadata": {},
   "source": [
    "## b)\n",
    "\n",
    "To infer which products new customers are likely to buy, you set up a probabilistic model.\n",
    "You assume that the answers to questions 1 - 3 are conditionally independent (Naive Bayes) given $product$ and model the dependencies as follows:\n",
    "$$\n",
    "f(age, preferences, money, product) = \\\\\n",
    "\t\t\\mathbb{P}(age ~\\vert~ product) \\cdot \\mathbb{P}(preferences ~\\vert~ product) \\cdot f_{money}(money ~\\vert~ product) \\cdot \\mathbb{P}(product)\n",
    "$$\n",
    "\n",
    "Estimate the parameters of your categorical prior by using maximum likelihood:\n",
    "$$\n",
    "\\mathbb{P}(product = UC) = p_{UC} \\qquad \\mathbb{P}(product = VC) = p_{VC} \\qquad \\mathbb{P}(product = NP) = p_{NP}\n",
    "$$\n",
    "\n",
    "*Hint*: The maximum likelihood estimate of the parameters for categorically distributed variables is simply the fraction of samples from a category."
   ]
  },
  {
   "cell_type": "code",
   "execution_count": null,
   "metadata": {},
   "outputs": [],
   "source": [
    "# TODO"
   ]
  },
  {
   "cell_type": "markdown",
   "metadata": {},
   "source": [
    "## c)\n",
    "\n",
    "Based on your observations in a), you decide to model the likelihoods as follows:\n",
    "\n",
    "1. $age$ follows a Poisson distribution where the parameter $\\lambda_{product}$ depends on the product the customers would buy ($\\lambda_{product} = \\lambda_{UC}$, $\\lambda_{product} = \\lambda_{VC}$, or $\\lambda_{product} = \\lambda_{NP}$):\n",
    "    $$\n",
    "        \\mathbb{P}(age = k \\vert product) = \\frac{\\lambda_{product}^k}{k!} e^{-\\lambda_{product}}\n",
    "    $$\n",
    "\n",
    "2. $preferences$ follows a Categorical distribution where the parameters depend on the product the customers would buy.\n",
    "\n",
    "3. $money$ follows an exponential distribution where the parameter $\\lambda_{product}$ depends on the product the customers would buy ($\\eta_{product} = \\eta_{UC}$, $\\eta_{product} = \\eta_{VC}$ or $\\eta_{product} = \\eta_{NP}$):\n",
    "    $$\n",
    "        f_{money}(m \\vert product) = \\begin{cases}\n",
    "            \\eta_{product} \\cdot e^{-\\eta_{product} \\cdot m} & m \\geq 0 \\\\\n",
    "            0 & \\text{else}\n",
    "        \\end{cases}\n",
    "    $$\n",
    "\n",
    "\n",
    "Intuitively, your model describes the profile ($age$, $preferences$, $money$) of a customer if you already know which product they would buy ($product$).\n",
    "        \n",
    "Using the data, derive maximum likelihood estimates for all parameters.\n",
    "\n",
    "*Hint*: The maximum likelihood estimate of the parameters for Poisson distributed variables is simply the sample mean: $\\bar{x}$.  \n",
    "*Hint*: The maximum likelihood estimate of the parameters for exponentially distributed variables is the inverse of their sample mean: $\\bar{x}^{-1}$.  \n",
    "*Hint*: The maximum likelihood estimate of the parameters for categorically distributed variables is simply the fraction of samples from a category."
   ]
  },
  {
   "cell_type": "markdown",
   "metadata": {},
   "source": [
    "Age"
   ]
  },
  {
   "cell_type": "code",
   "execution_count": null,
   "metadata": {},
   "outputs": [],
   "source": [
    "# TODO"
   ]
  },
  {
   "cell_type": "markdown",
   "metadata": {},
   "source": [
    "Preferences"
   ]
  },
  {
   "cell_type": "code",
   "execution_count": null,
   "metadata": {},
   "outputs": [],
   "source": [
    "# TODO"
   ]
  },
  {
   "cell_type": "markdown",
   "metadata": {},
   "source": [
    "Money"
   ]
  },
  {
   "cell_type": "code",
   "execution_count": null,
   "metadata": {},
   "outputs": [],
   "source": [
    "# TODO"
   ]
  },
  {
   "cell_type": "markdown",
   "metadata": {},
   "source": [
    "## d) + e)\n",
    "\n",
    "You now have access to a joint density over your data:\n",
    "$$\n",
    "f(age, preferences, money, product) = \\\\\n",
    "    \\mathbb{P}(age ~\\vert~ product) \\cdot \\mathbb{P}(preferences ~\\vert~ product) \\cdot f_{money}(money ~\\vert~ product) \\cdot \\mathbb{P}(product)\n",
    "$$\n",
    "\t\n",
    "With the fitted model, predict the (posterior) probability\n",
    "$$\n",
    "\t\\mathbb{P}(product ~\\vert~ age, preferences, money)\n",
    "$$\n",
    "that the customers below buy a unicorn cookie, a vanilla-chip cookie or no cookie at all:\n",
    "\n",
    "| Customer  | $age$ | $preferences$  | $money$   |\n",
    "| --------- | -----:| ------------- | ---------:|\n",
    "| Anna      | 81    | Cats          | 53.10 €   |\n",
    "| Ben       | 15    | Rainbows      | 2.30 €    |\n",
    "| Caroline  | 42    | Black holes   | 10.25 €   |\n",
    "| ???       | ??    | Rainbows      | ??        |"
   ]
  },
  {
   "cell_type": "markdown",
   "metadata": {},
   "source": [
    "Helpful distributions:\n",
    "- [Poisson](https://docs.scipy.org/doc/scipy/reference/generated/scipy.stats.poisson.html#scipy.stats.poisson)\n",
    "- [Exponential](https://docs.scipy.org/doc/scipy/reference/generated/scipy.stats.expon.html#scipy.stats.expon)"
   ]
  },
  {
   "cell_type": "markdown",
   "metadata": {},
   "source": [
    "### Anna"
   ]
  },
  {
   "cell_type": "code",
   "execution_count": null,
   "metadata": {},
   "outputs": [],
   "source": [
    "# No product\n",
    "# TODO\n",
    "\n",
    "# Unicorn cookie\n",
    "# TODO\n",
    "\n",
    "# Vanilla chip cookie\n",
    "# TODO\n",
    "\n",
    "# Normalize\n",
    "# TODO"
   ]
  },
  {
   "cell_type": "markdown",
   "metadata": {},
   "source": [
    "### Ben"
   ]
  },
  {
   "cell_type": "code",
   "execution_count": null,
   "metadata": {},
   "outputs": [],
   "source": [
    "# No product\n",
    "# TODO\n",
    "\n",
    "# Unicorn cookie\n",
    "# TODO\n",
    "\n",
    "# Vanilla chip cookie\n",
    "# TODO\n",
    "\n",
    "# Normalize\n",
    "# TODO"
   ]
  },
  {
   "cell_type": "markdown",
   "metadata": {},
   "source": [
    "### Caroline"
   ]
  },
  {
   "cell_type": "code",
   "execution_count": null,
   "metadata": {},
   "outputs": [],
   "source": [
    "# No product\n",
    "# TODO\n",
    "\n",
    "# Unicorn cookie\n",
    "# TODO\n",
    "\n",
    "# Vanilla chip cookie\n",
    "# TODO\n",
    "\n",
    "# Normalize\n",
    "# TODO"
   ]
  },
  {
   "cell_type": "markdown",
   "metadata": {},
   "source": [
    "### Unknown customer"
   ]
  },
  {
   "cell_type": "code",
   "execution_count": null,
   "metadata": {},
   "outputs": [],
   "source": [
    "# No product\n",
    "# TODO\n",
    "\n",
    "# Unicorn cookie\n",
    "# TODO\n",
    "\n",
    "# Vanilla chip cookie\n",
    "# TODO\n",
    "\n",
    "# Normalize\n",
    "# TODO"
   ]
  }
 ],
 "metadata": {
  "kernelspec": {
   "display_name": "baml-venv",
   "language": "python",
   "name": "python3"
  },
  "language_info": {
   "codemirror_mode": {
    "name": "ipython",
    "version": 3
   },
   "file_extension": ".py",
   "mimetype": "text/x-python",
   "name": "python",
   "nbconvert_exporter": "python",
   "pygments_lexer": "ipython3",
   "version": "3.11.4"
  }
 },
 "nbformat": 4,
 "nbformat_minor": 2
}
