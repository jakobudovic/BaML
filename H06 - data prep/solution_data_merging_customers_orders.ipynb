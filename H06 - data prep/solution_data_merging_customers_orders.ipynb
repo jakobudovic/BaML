{
 "cells": [
  {
   "cell_type": "markdown",
   "metadata": {},
   "source": [
    "# Exercise: Data Merging\n",
    "\n",
    "Ideally, data analysts would start their work with complete datasets. In practise, however, data often isn't even bundled and has to be aggregated from multiple sources. In this exercise, you will use pandas to merge data from multiple sources in different ways."
   ]
  },
  {
   "cell_type": "code",
   "execution_count": 1,
   "metadata": {},
   "outputs": [],
   "source": [
    "# for this exercise, only use pandas\n",
    "import pandas as pd"
   ]
  },
  {
   "cell_type": "markdown",
   "metadata": {},
   "source": [
    "##### 1. Read the customer table (customers.csv) and order table (orders.csv) files into two separate dataframes"
   ]
  },
  {
   "cell_type": "code",
   "execution_count": 2,
   "metadata": {},
   "outputs": [],
   "source": [
    "df_customers = pd.read_csv(\"customers.csv\")\n",
    "df_orders = pd.read_csv(\"orders.csv\")"
   ]
  },
  {
   "cell_type": "markdown",
   "metadata": {},
   "source": [
    "##### 2. Create a dataframe, which contains each customer and their associated information from the order table. This new dataframe should keep all entries of the customer.csv table."
   ]
  },
  {
   "cell_type": "code",
   "execution_count": 11,
   "metadata": {},
   "outputs": [],
   "source": [
    "df_customers_extended = pd.merge(df_customers, \n",
    "                                 df_orders, \n",
    "                                 left_on=\"ID\", \n",
    "                                 right_on=\"Customer\", \n",
    "                                 how=\"left\",\n",
    "                                 suffixes=(\"_customer\", \"_order\"))\n",
    "\n",
    "# Note, that pd.merge renames columns if the two merged dataframes have identically named columns.\n",
    "# By default it adds \"_x\" and \"_y\" suffixes, but this can be changed by the \"suffixes\" argument.\n",
    "# It is good practice to rename these to fit the content of the data\n",
    "# e.g. \"ID_x\" --> \"ID_customer\", and \"ID_y\" --> \"ID_order\"\n",
    "# You can also keep column names by providing an empty suffix, e.g. suffixes=(\"\", \"_order\")"
   ]
  },
  {
   "cell_type": "markdown",
   "metadata": {},
   "source": [
    "##### 3. Create a dataframe, which contains only customers that already have placed at least one order"
   ]
  },
  {
   "cell_type": "code",
   "execution_count": 4,
   "metadata": {},
   "outputs": [],
   "source": [
    "df_customers_order = pd.merge(df_customers, \n",
    "                              df_orders, \n",
    "                              left_on=\"ID\", \n",
    "                              right_on=\"Customer\", \n",
    "                              how=\"inner\",\n",
    "                              suffixes=(\"_customer\", \"_order\"))"
   ]
  },
  {
   "cell_type": "markdown",
   "metadata": {},
   "source": [
    "##### 4. Create a dataframe, that merges and keeps _all_ entries from both datasets"
   ]
  },
  {
   "cell_type": "code",
   "execution_count": 5,
   "metadata": {},
   "outputs": [],
   "source": [
    "df_customers_full = pd.merge(df_customers, \n",
    "                             df_orders, \n",
    "                             left_on=\"ID\", \n",
    "                             right_on=\"Customer\", \n",
    "                             how=\"outer\",\n",
    "                             suffixes=(\"_customer\", \"_order\"))"
   ]
  },
  {
   "cell_type": "markdown",
   "metadata": {},
   "source": [
    "##### 5. Create a dataframe that contains all customers that have _not_ placed an order yet"
   ]
  },
  {
   "cell_type": "code",
   "execution_count": 6,
   "metadata": {},
   "outputs": [],
   "source": [
    "# For this task, we use a \"bitmask\", which is an array containing True/False. \n",
    "# For each customer, i.e. each \"ID\" in df_customers, check if the ID is contained inside\n",
    "# the \"Customer\" column of df_orders. If not, this customer did not place an order yet.\n",
    "bitmask_customers_order = df_customers[\"ID\"].isin(df_orders[\"Customer\"])\n",
    "df_customers_no_orders = df_customers[~bitmask_customers_order]  # \"~\" is the bit-wise \"not\"-operator"
   ]
  }
 ],
 "metadata": {
  "kernelspec": {
   "display_name": "Python 3",
   "language": "python",
   "name": "python3"
  },
  "language_info": {
   "codemirror_mode": {
    "name": "ipython",
    "version": 3
   },
   "file_extension": ".py",
   "mimetype": "text/x-python",
   "name": "python",
   "nbconvert_exporter": "python",
   "pygments_lexer": "ipython3",
   "version": "3.10.11"
  },
  "orig_nbformat": 4
 },
 "nbformat": 4,
 "nbformat_minor": 2
}
