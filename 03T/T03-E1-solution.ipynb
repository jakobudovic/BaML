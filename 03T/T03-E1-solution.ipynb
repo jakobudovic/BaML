{
 "cells": [
  {
   "cell_type": "markdown",
   "metadata": {},
   "source": [
    "# Logistic regression for a 2D classification problem"
   ]
  },
  {
   "cell_type": "markdown",
   "metadata": {},
   "source": [
    "Imports..."
   ]
  },
  {
   "cell_type": "code",
   "execution_count": null,
   "metadata": {},
   "outputs": [],
   "source": [
    "import numpy as np\n",
    "import pandas as pd\n",
    "import matplotlib.pyplot as plt\n",
    "from sklearn.linear_model import LogisticRegression\n",
    "import statsmodels.api as sm"
   ]
  },
  {
   "cell_type": "markdown",
   "metadata": {},
   "source": [
    "## Load and visualize data"
   ]
  },
  {
   "cell_type": "code",
   "execution_count": null,
   "metadata": {},
   "outputs": [],
   "source": [
    "data = pd.read_csv(\"2d-classification-data.csv\")\n",
    "data.head(10)"
   ]
  },
  {
   "cell_type": "code",
   "execution_count": null,
   "metadata": {},
   "outputs": [],
   "source": [
    "data.plot.scatter(x=\"x1\", y=\"x2\", c=\"y\");"
   ]
  },
  {
   "cell_type": "markdown",
   "metadata": {},
   "source": [
    "## Define and fit the model"
   ]
  },
  {
   "cell_type": "code",
   "execution_count": null,
   "metadata": {},
   "outputs": [],
   "source": [
    "# Select model input variables\n",
    "X = data[[\"x1\", \"x2\"]].copy()\n",
    "X"
   ]
  },
  {
   "cell_type": "code",
   "execution_count": null,
   "metadata": {},
   "outputs": [],
   "source": [
    "# Define a model and fit it\n",
    "# Note: sklearn.linear_model.LogisticRegression adds an intercept automatically.\n",
    "model = LogisticRegression(penalty=None)\n",
    "model.fit(X, data[\"y\"])"
   ]
  },
  {
   "cell_type": "code",
   "execution_count": null,
   "metadata": {},
   "outputs": [],
   "source": [
    "# Parameters\n",
    "beta_1, beta_2 = model.coef_[0]\n",
    "beta_0 = model.intercept_.item()\n",
    "print(beta_0, beta_1, beta_2)"
   ]
  },
  {
   "cell_type": "code",
   "execution_count": null,
   "metadata": {},
   "outputs": [],
   "source": [
    "# Alternative: statsmodels\n",
    "model_sm = sm.Logit(data[\"y\"], sm.add_constant(X))\n",
    "results = model_sm.fit()\n",
    "print(results.summary())\n",
    "\n",
    "# beta_0, beta_1, beta_2 = results.params\n",
    "# print(beta_0, beta_1, beta_2)"
   ]
  },
  {
   "cell_type": "markdown",
   "metadata": {},
   "source": [
    "## Use model for Prediction"
   ]
  },
  {
   "cell_type": "code",
   "execution_count": null,
   "metadata": {},
   "outputs": [],
   "source": [
    "# Prediction of training samples\n",
    "data['prediction'] = model.predict(X)\n",
    "data['probability'] = model.predict_proba(X)[:,1]"
   ]
  },
  {
   "cell_type": "code",
   "execution_count": null,
   "metadata": {},
   "outputs": [],
   "source": [
    "# Alternative: statsmodels\n",
    "data['prediction_sm'] = (model_sm.predict(results.params) > 0.5) * 1.0\n",
    "data['probability_sm'] = model_sm.predict(results.params)"
   ]
  },
  {
   "cell_type": "markdown",
   "metadata": {},
   "source": [
    "## Visualization"
   ]
  },
  {
   "cell_type": "code",
   "execution_count": null,
   "metadata": {},
   "outputs": [],
   "source": [
    "# Predictions with decision boundary\n",
    "data.plot.scatter(x=\"x1\", y=\"x2\", c=\"prediction\");\n",
    "x1 = np.array([-3, 3])\n",
    "x2 = (- x1 * beta_1 - beta_0) / beta_2\n",
    "plt.plot(x1, x2);"
   ]
  },
  {
   "cell_type": "code",
   "execution_count": null,
   "metadata": {},
   "outputs": [],
   "source": [
    "# Decision boundary vs. ground truth\n",
    "data.plot.scatter(x=\"x1\", y=\"x2\", c=\"y\");\n",
    "x1 = np.array([-3, 3])\n",
    "x2 = (- x1 * beta_1 - beta_0) / beta_2\n",
    "plt.plot(x1, x2);"
   ]
  },
  {
   "cell_type": "code",
   "execution_count": null,
   "metadata": {},
   "outputs": [],
   "source": [
    "# Probabilities\n",
    "data.plot.scatter(x=\"x1\", y=\"x2\", c=\"probability\");\n",
    "x1 = np.array([-3, 3])\n",
    "x2 = (- x1 * beta_1 - beta_0) / beta_2\n",
    "plt.plot(x1, x2);"
   ]
  },
  {
   "cell_type": "code",
   "execution_count": null,
   "metadata": {},
   "outputs": [],
   "source": [
    "# data.to_csv(\"results.csv\", index=False)"
   ]
  },
  {
   "cell_type": "code",
   "execution_count": null,
   "metadata": {},
   "outputs": [],
   "source": [
    "# Bonus: Visualize learned decision probability (here: with statsmodels)\n",
    "X, Y = np.meshgrid(np.linspace(-3, 3, 100), np.linspace(-4, 4, 100))\n",
    "points = np.concatenate([X[..., None], Y[..., None]], axis=-1).reshape(-1, 2)\n",
    "probs = model_sm.predict(results.params, sm.add_constant(points))\n",
    "\n",
    "plt.scatter(X, Y, c=probs);\n",
    "plt.colorbar();\n",
    "plt.xlabel(\"$x_1$\");\n",
    "plt.ylabel(\"$x_2$\");\n",
    "plt.title(\"Probability $p(y = 1 | x)$\");\n",
    "\n",
    "from matplotlib import cm\n",
    "fig, ax = plt.subplots(subplot_kw={\"projection\": \"3d\"})\n",
    "surf = ax.plot_surface(X.reshape(100, 100), \n",
    "                       Y.reshape(100, 100), \n",
    "                       probs.reshape(100, 100), \n",
    "                       cmap=cm.coolwarm,\n",
    "                       linewidth=0, antialiased=False)\n",
    "ax.set_xlabel(\"$x_1$\");\n",
    "ax.set_ylabel(\"$x_2$\");\n",
    "ax.set_zlabel(\"$p(y = 1 | x)$\");\n",
    "ax.view_init(30, 360-155);\n",
    "ax.zaxis.labelpad=-2.5;\n",
    "fig.tight_layout();"
   ]
  }
 ],
 "metadata": {
  "kernelspec": {
   "display_name": "baml-venv",
   "language": "python",
   "name": "python3"
  },
  "language_info": {
   "codemirror_mode": {
    "name": "ipython",
    "version": 3
   },
   "file_extension": ".py",
   "mimetype": "text/x-python",
   "name": "python",
   "nbconvert_exporter": "python",
   "pygments_lexer": "ipython3",
   "version": "3.11.4"
  }
 },
 "nbformat": 4,
 "nbformat_minor": 2
}
