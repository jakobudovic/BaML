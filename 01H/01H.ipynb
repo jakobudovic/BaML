{
 "cells": [
  {
   "cell_type": "markdown",
   "id": "6f998152",
   "metadata": {},
   "source": [
    "# Business Analytics & Machine Learning \n",
    "##  Homework sheet 1: Statistics "
   ]
  },
  {
   "cell_type": "markdown",
   "id": "7592eb5a",
   "metadata": {},
   "source": [
    "### Exercise H1.1 Gas consumption\n",
    "According to the information supplied by the manufacturer of a certain type of car, its gas consumption in city traffic is approximately normally distributed with expected value μ = 9.5 ℓ/100km. The standard deviation σ = 2.5 ℓ/100km is commonly known (to the general public and the manufacturer). In order to review the manufacturers prediction, a consumer organization has performed a test on 25 cars which yielded the following result\n",
    "\n",
    "Average gas consumption: $x = 10.5 ℓ/100km$.\n",
    "\n",
    "Check the manufacturers statement with a suitable test for significance levels α = 0.05 and α = 0.01."
   ]
  },
  {
   "cell_type": "code",
   "execution_count": 3,
   "id": "3fcbd7cf",
   "metadata": {},
   "outputs": [],
   "source": [
    "mi0 = 9.5\n",
    "std = 2.5\n",
    "mi1 = 10.5\n",
    "\n",
    "alpha1 = 0.05\n",
    "alpha2 = 0.01"
   ]
  },
  {
   "cell_type": "markdown",
   "id": "48cf8d0b",
   "metadata": {},
   "source": [
    "### Exercise H1.2 Caloric intake\n",
    "32 individuals take part in a study about nutritional behavior. One aspect of the study is comparing carni-vore diets to non-carnivore diets in terms of daily caloric intake. The research hypothesis states, that thedaily average caloric intake of individuals following a non-carnivore diet is lower, compared to individualsfollowing a carnivore diet. Out of 32 participants, 12 adhere to a non-carnivore diet, yielding an averagecaloric intake of ¯x1 = 1780 kcal. In contrast, the remaining 20 participants following a carnivore diet av-erage to ¯x2 = 1900 kcal per day. The respective estimated standard deviations result in s1 = 230, ands2 = 250. The daily caloric intake of an individual is assumed to be a normally distributed variable"
   ]
  },
  {
   "cell_type": "code",
   "execution_count": null,
   "id": "193a7854",
   "metadata": {},
   "outputs": [],
   "source": []
  }
 ],
 "metadata": {
  "kernelspec": {
   "display_name": "Python 3 (ipykernel)",
   "language": "python",
   "name": "python3"
  },
  "language_info": {
   "codemirror_mode": {
    "name": "ipython",
    "version": 3
   },
   "file_extension": ".py",
   "mimetype": "text/x-python",
   "name": "python",
   "nbconvert_exporter": "python",
   "pygments_lexer": "ipython3",
   "version": "3.10.6"
  }
 },
 "nbformat": 4,
 "nbformat_minor": 5
}
