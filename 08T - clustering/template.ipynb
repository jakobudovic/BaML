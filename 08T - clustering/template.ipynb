{
 "cells": [
  {
   "cell_type": "markdown",
   "metadata": {},
   "source": [
    "## k-Means for Image Compression"
   ]
  },
  {
   "cell_type": "markdown",
   "metadata": {},
   "source": [
    "The goal of this exercise is to use k-means clustering for image compression in Python."
   ]
  },
  {
   "cell_type": "markdown",
   "metadata": {},
   "source": [
    "##### a) Load an image of the famous painting \"American Gothic\" by Grand Wood, and store it as an RGB-image. "
   ]
  },
  {
   "cell_type": "code",
   "execution_count": null,
   "metadata": {},
   "outputs": [],
   "source": [
    "# For easy image loading, we use skimage.io via io.imread(url)\n",
    "#  You can get it via installing the scikit-image module/package\n",
    "#  e.g. by executing this command from a cell -->   %pip install scikit-image\n",
    "\n",
    "import numpy as np\n",
    "from skimage import io\n",
    "from sklearn.cluster import KMeans\n",
    "import matplotlib.pyplot as plt"
   ]
  },
  {
   "cell_type": "code",
   "execution_count": null,
   "metadata": {},
   "outputs": [],
   "source": [
    "# load the image\n",
    "url = \"https://upload.wikimedia.org/wikipedia/commons/thumb/c/cc/Grant_Wood_-_American_Gothic_-_Google_Art_Project.jpg/895px-Grant_Wood_-_American_Gothic_-_Google_Art_Project.jpg\"\n",
    "\n",
    "# TODO: load image\n",
    "img = None\n",
    "\n",
    "# TODO: save it locally\n"
   ]
  },
  {
   "cell_type": "code",
   "execution_count": null,
   "metadata": {},
   "outputs": [],
   "source": [
    "# TODO (optional): inspect the object you obtained from skimage.io.imread. Try to visualize\n",
    "#  the color channels of the RGB image."
   ]
  },
  {
   "cell_type": "markdown",
   "metadata": {},
   "source": [
    "##### b) How many unique colors does the painting contain?"
   ]
  },
  {
   "cell_type": "code",
   "execution_count": null,
   "metadata": {},
   "outputs": [],
   "source": [
    "# TODO: Compute number of unique colors\n",
    "unique_colors = -1\n",
    "print(\"Unique colors:\", unique_colors)"
   ]
  },
  {
   "cell_type": "markdown",
   "metadata": {},
   "source": [
    "##### c) Apply k-means clustering to compress the image. "
   ]
  },
  {
   "cell_type": "code",
   "execution_count": null,
   "metadata": {},
   "outputs": [],
   "source": [
    "# TODO:\n",
    "# Write a custom function to reuse for subsequent tasks. Ideally, let it return\n",
    "#  the KMeans objects if needed (for subtask e) ).\n",
    "\n",
    "def compress_image(image, number_of_clusters, keep_kmeans_objects=False):\n",
    "  \n",
    "  # TODO: Reshape image to color space (N*M x 3 matrix with values in [0, 1])\n",
    "  img = None\n",
    "  \n",
    "  # TODO: Apply kmeans (create a KMeans object, fit data, get new colors, and\n",
    "  #  reshape results into the old (N, M, 3) format\n",
    "  km = None\n",
    "  \n",
    "  # The resulting values may fall out of range [0, 255], and need to be\n",
    "  #  renormalized accordingly. \n",
    "  # TODO: Either recenter all valaues, or clip out of range values.\n",
    "  compressed_image = None\n",
    "  \n",
    "  # Optionally, let the function also return the KMeans objects themselves.\n",
    "  returns = None\n",
    "  if keep_kmeans_objects:\n",
    "    returns = compressed_image, km\n",
    "  else:\n",
    "    returns = compressed_image\n",
    "  return returns"
   ]
  },
  {
   "cell_type": "code",
   "execution_count": null,
   "metadata": {},
   "outputs": [],
   "source": [
    "# Use the custom function to compress the original image using 5 clusters\n",
    "cimg = compress_image(img, 5)\n",
    "plt.title(\"kmeans_compression_5_clusters\")\n",
    "plt.imshow(cimg);"
   ]
  },
  {
   "cell_type": "markdown",
   "metadata": {},
   "source": [
    "##### d) Apply k-means clustering for $k\\in\\{1, 2, 3, 5, 10, 15, 20\\}$. Plot and save the compressed images of each iteration. If your computer is strong enough, try up to k=50. Observe the size of the image files. Looking at the images, at what point do you notice deminishing improvements in terms of image quality?"
   ]
  },
  {
   "cell_type": "code",
   "execution_count": null,
   "metadata": {},
   "outputs": [],
   "source": [
    "# TODO: loop your custom \"compress_image\" function for different k and save each\n",
    "#  compressed image locally to compare file sizes.\n"
   ]
  },
  {
   "cell_type": "markdown",
   "metadata": {},
   "source": [
    "##### e) Determine a reasonable number of clusters using the \"elbow criterion\". For this purpose, plot the total within-cluster sum of squares (attribute \"inertia_\" of the \"KMeans\" object) against the number of clusters, e.g. for $k\\in[1, 10]$. Does the \"elbow point\" correspond to your visual impression in part d)?"
   ]
  },
  {
   "cell_type": "code",
   "execution_count": null,
   "metadata": {},
   "outputs": [],
   "source": [
    "# TODO: for k in [1, ..., 10], plot the corresponding inertia_ of the KMeans\n",
    "#  (use the keep_kmeans_objects=True functionality of the compress_image function)"
   ]
  }
 ],
 "metadata": {
  "kernelspec": {
   "display_name": "Python 3",
   "language": "python",
   "name": "python3"
  },
  "language_info": {
   "codemirror_mode": {
    "name": "ipython",
    "version": 3
   },
   "file_extension": ".py",
   "mimetype": "text/x-python",
   "name": "python",
   "nbconvert_exporter": "python",
   "pygments_lexer": "ipython3",
   "version": "3.10.11"
  }
 },
 "nbformat": 4,
 "nbformat_minor": 2
}
