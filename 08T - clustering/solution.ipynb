{
 "cells": [
  {
   "cell_type": "markdown",
   "metadata": {},
   "source": [
    "## k-Means for Image Compression"
   ]
  },
  {
   "cell_type": "markdown",
   "metadata": {},
   "source": [
    "The goal of this exercise is to use k-means clustering for image compression in Python."
   ]
  },
  {
   "cell_type": "markdown",
   "metadata": {},
   "source": [
    "##### a) Load an image of the famous painting \"American Gothic\" by Grand Wood, and store it as an RGB-image. "
   ]
  },
  {
   "cell_type": "code",
   "execution_count": null,
   "metadata": {},
   "outputs": [],
   "source": [
    "# For easy image loading, we use skimage.io via io.imread(url)\n",
    "# You can get it via installing the scikit-image module/package\n",
    "# e.g. by executing this command from a cell -->   %pip install scikit-image\n",
    "\n",
    "import numpy as np\n",
    "from skimage import io\n",
    "from sklearn.cluster import KMeans\n",
    "import matplotlib.pyplot as plt"
   ]
  },
  {
   "cell_type": "code",
   "execution_count": null,
   "metadata": {},
   "outputs": [],
   "source": [
    "# load the image\n",
    "url = \"https://upload.wikimedia.org/wikipedia/commons/thumb/c/cc/Grant_Wood_-_American_Gothic_-_Google_Art_Project.jpg/895px-Grant_Wood_-_American_Gothic_-_Google_Art_Project.jpg\"\n",
    "img = io.imread(url)\n",
    "\n",
    "# save it locally\n",
    "io.imsave(\"original.png\", img)"
   ]
  },
  {
   "cell_type": "code",
   "execution_count": null,
   "metadata": {},
   "outputs": [],
   "source": [
    "# note, that the image is stored as a 3-dimensional numpy array\n",
    "print(\"image data type:\", type(img))\n",
    "print(\"image shape:\", img.shape)"
   ]
  },
  {
   "cell_type": "code",
   "execution_count": null,
   "metadata": {},
   "outputs": [],
   "source": [
    "# the third axis specifies the \"color channels\" of the image,\n",
    "# split each channel into a seperate variable\n",
    "r = img[:, :, 0]\n",
    "g = img[:, :, 1]\n",
    "b = img[:, :, 2]"
   ]
  },
  {
   "cell_type": "code",
   "execution_count": null,
   "metadata": {},
   "outputs": [],
   "source": [
    "# have a look at the original image and the single channels\n",
    "\n",
    "# prepare pyplot figure\n",
    "fig = plt.figure(figsize=(16, 16))\n",
    "\n",
    "# draw original image\n",
    "fig.add_subplot(2, 1, 1)\n",
    "plt.title(\"original\")\n",
    "plt.imshow(img)\n",
    "\n",
    "# draw reds\n",
    "fig.add_subplot(2, 3, 4)\n",
    "plt.title(\"red\")\n",
    "plt.imshow(r, cmap=\"Greys\")\n",
    "\n",
    "# draw greens\n",
    "fig.add_subplot(2, 3, 5)\n",
    "plt.title(\"green\")\n",
    "plt.imshow(g, cmap=\"Greys\")\n",
    "\n",
    "# draw blues\n",
    "fig.add_subplot(2, 3, 6)\n",
    "plt.title(\"blue\")\n",
    "plt.imshow(b, cmap=\"Greys\")\n",
    "\n",
    "plt.show()"
   ]
  },
  {
   "cell_type": "markdown",
   "metadata": {},
   "source": [
    "##### b) How many unique colors does the painting contain?"
   ]
  },
  {
   "cell_type": "code",
   "execution_count": null,
   "metadata": {},
   "outputs": [],
   "source": [
    "# The idea here is to reshape the 3 channel image, such that each (x, y) pair\n",
    "# (a.k.a. each pixel) can be indexed by a single value. Instead of a \n",
    "# 1080 x 995 x 3 tensor, we now get a 966600 x 3 matrix, where rows correspond \n",
    "# to pixel coordinates. This way, we can count the unique rows in this matrix, \n",
    "# and get exactly the unique colors.\n",
    "\n",
    "# Number of unique colors\n",
    "pimg = img.reshape(-1, 3)\n",
    "print(\"Unique colors:\", len(np.unique(pimg, axis=0)))"
   ]
  },
  {
   "cell_type": "markdown",
   "metadata": {},
   "source": [
    "##### c) Apply k-means clustering to compress the image. "
   ]
  },
  {
   "cell_type": "code",
   "execution_count": null,
   "metadata": {},
   "outputs": [],
   "source": [
    "# solution\n",
    "def compress_image(image, number_of_clusters, keep_kmeans_objects=False):\n",
    "  \n",
    "  # reshape image to color space\n",
    "  img = image.reshape(-1, 3) / 255\n",
    "  \n",
    "  # apply kmeans\n",
    "  km = KMeans(n_clusters=number_of_clusters, init=\"random\", max_iter=300, n_init=\"auto\")\n",
    "  km.fit(img)\n",
    "  new_colors = km.cluster_centers_[km.predict(img)]\n",
    "  compressed_image = new_colors.reshape(image.shape[0], image.shape[1], 3)\n",
    "  \n",
    "  # the values may fall out of range [0, 255], and need to be\n",
    "  #  renormalized accordingly (alternative: clipping)\n",
    "  compressed_image = (compressed_image - np.min(compressed_image))\n",
    "  compressed_image = (compressed_image * 255 / np.max(compressed_image))  \\\n",
    "                     .astype(np.uint8)\n",
    "  \n",
    "  returns = None\n",
    "  if keep_kmeans_objects:\n",
    "    returns = compressed_image, km\n",
    "  else:\n",
    "    returns = compressed_image\n",
    "  return returns"
   ]
  },
  {
   "cell_type": "code",
   "execution_count": null,
   "metadata": {},
   "outputs": [],
   "source": [
    "# use the custom function to compress the original image using 5 clusters\n",
    "cimg = compress_image(img, 5)\n",
    "plt.title(\"kmeans_compression_5_clusters\")\n",
    "plt.imshow(cimg)"
   ]
  },
  {
   "cell_type": "markdown",
   "metadata": {},
   "source": [
    "##### d) Apply k-means clustering for $k\\in\\{1, 2, 3, 5, 10, 15, 20\\}$. Save the compressed images of each iteration. If your computer is strong enough, try up to k=50. Observe the size of the image files. Looking at the images, at what point do you notice deminishing improvements in terms of image quality?"
   ]
  },
  {
   "cell_type": "code",
   "execution_count": null,
   "metadata": {},
   "outputs": [],
   "source": [
    "cluster_numbers = [1, 2, 3, 5, 10, 15, 20]\n",
    "for k in cluster_numbers:\n",
    "    cimg = compress_image(img, k)\n",
    "    io.imsave(\"kmeans_compression_\"+str(k)+\"_components.png\", cimg)"
   ]
  },
  {
   "cell_type": "markdown",
   "metadata": {},
   "source": [
    "##### e) Determine a reasonable number of clusters using the \"elbow criterion\". For this purpose, plot the total within-cluster sum of squares (attribute \"inertia_\" of the \"KMeans\" object) against the number of clusters, e.g. for $k\\in[1, 10]$. Does the \"elbow point\" correspond to your visual impression in part d)?"
   ]
  },
  {
   "cell_type": "code",
   "execution_count": null,
   "metadata": {},
   "outputs": [],
   "source": [
    "n = 10\n",
    "x = np.linspace(1, n, n)\n",
    "y = []\n",
    "\n",
    "for i in range(1, n+1):\n",
    "    cimg, km = compress_image(img, i, keep_kmeans_objects=True)\n",
    "    y.append(km.inertia_)\n",
    "\n",
    "plt.plot(x, y, color=\"black\")\n",
    "\n",
    "# Elbow criterion yields k=2 or k=3 (ambiguous)."
   ]
  }
 ],
 "metadata": {
  "kernelspec": {
   "display_name": "Python 3",
   "language": "python",
   "name": "python3"
  },
  "language_info": {
   "codemirror_mode": {
    "name": "ipython",
    "version": 3
   },
   "file_extension": ".py",
   "mimetype": "text/x-python",
   "name": "python",
   "nbconvert_exporter": "python",
   "pygments_lexer": "ipython3",
   "version": "3.10.13"
  }
 },
 "nbformat": 4,
 "nbformat_minor": 2
}
