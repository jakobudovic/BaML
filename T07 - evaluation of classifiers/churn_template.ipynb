{
 "cells": [
  {
   "cell_type": "code",
   "execution_count": 3,
   "id": "3498125e-3f8d-46c7-805d-8b31237a8f3c",
   "metadata": {},
   "outputs": [],
   "source": [
    "import pandas as pd\n",
    "import numpy as np\n",
    "from sklearn.ensemble import RandomForestClassifier\n",
    "from sklearn.model_selection import train_test_split, cross_val_score\n",
    "from sklearn.metrics import accuracy_score, precision_score, recall_score, confusion_matrix\n",
    "import matplotlib.pyplot as plt"
   ]
  },
  {
   "cell_type": "code",
   "execution_count": 5,
   "id": "bfa2169d-b97f-458e-8529-8281f676212c",
   "metadata": {},
   "outputs": [],
   "source": [
    "# Read in the data\n",
    "df = pd.read_excel('e-commerce-dataset.xlsx', sheet_name='E_Comm')\n",
    "df.to_csv('e-commerce_churn.csv', index=False)\n",
    "df = pd.read_csv('e-commerce_churn.csv')"
   ]
  },
  {
   "cell_type": "code",
   "execution_count": 6,
   "id": "832f2b0d-c5a6-48aa-8de1-2b1e2f5dcefd",
   "metadata": {},
   "outputs": [
    {
     "name": "stdout",
     "output_type": "stream",
     "text": [
      "<class 'pandas.core.frame.DataFrame'>\n",
      "RangeIndex: 5630 entries, 0 to 5629\n",
      "Data columns (total 20 columns):\n",
      " #   Column                       Non-Null Count  Dtype  \n",
      "---  ------                       --------------  -----  \n",
      " 0   CustomerID                   5630 non-null   int64  \n",
      " 1   Churn                        5630 non-null   int64  \n",
      " 2   Tenure                       5366 non-null   float64\n",
      " 3   PreferredLoginDevice         5630 non-null   object \n",
      " 4   CityTier                     5630 non-null   int64  \n",
      " 5   WarehouseToHome              5379 non-null   float64\n",
      " 6   PreferredPaymentMode         5630 non-null   object \n",
      " 7   Gender                       5630 non-null   object \n",
      " 8   HourSpendOnApp               5375 non-null   float64\n",
      " 9   NumberOfDeviceRegistered     5630 non-null   int64  \n",
      " 10  PreferedOrderCat             5630 non-null   object \n",
      " 11  SatisfactionScore            5630 non-null   int64  \n",
      " 12  MaritalStatus                5630 non-null   object \n",
      " 13  NumberOfAddress              5630 non-null   int64  \n",
      " 14  Complain                     5630 non-null   int64  \n",
      " 15  OrderAmountHikeFromlastYear  5365 non-null   float64\n",
      " 16  CouponUsed                   5374 non-null   float64\n",
      " 17  OrderCount                   5372 non-null   float64\n",
      " 18  DaySinceLastOrder            5323 non-null   float64\n",
      " 19  CashbackAmount               5630 non-null   float64\n",
      "dtypes: float64(8), int64(7), object(5)\n",
      "memory usage: 879.8+ KB\n",
      "None\n"
     ]
    }
   ],
   "source": [
    "print(df.info())\n",
    "df = df.dropna()"
   ]
  },
  {
   "cell_type": "code",
   "execution_count": 7,
   "id": "aedab030-5e09-48d4-a29e-d9cf8633036a",
   "metadata": {},
   "outputs": [],
   "source": [
    "df['Churn'] = df['Churn'].astype('category')\n",
    "\n",
    "# Identify non-numeric columns\n",
    "non_numeric_cols = df.select_dtypes(include=['object']).columns\n",
    "\n",
    "# Apply one-hot encoding to non-numeric columns\n",
    "df = pd.get_dummies(df, columns=non_numeric_cols, drop_first=True)\n",
    "df"
   ]
  },
  {
   "cell_type": "markdown",
   "id": "2d7baf72-11a3-4b81-aa35-b3be45e22165",
   "metadata": {},
   "source": [
    "## Exercise T8.3 a)\n",
    "\n",
    "Your colleague proposes to train the model on the entire dataset and argues to tune the n_estimators\n",
    "and max_features parameters of sklearn.ensemble.RandomForestClassifier until the training\n",
    "accuracy is maximized. Do you agree? If not, which issues can you identify with this approach?\n",
    "\n",
    "What is the accuracy of your random forest model on the training dataset?\n"
   ]
  },
  {
   "cell_type": "code",
   "execution_count": null,
   "id": "5a97d19c-dcfb-49f6-b331-0de391480ddf",
   "metadata": {},
   "outputs": [],
   "source": [
    "# Train a random forest model\n",
    "# TODO\n",
    "\n",
    "# Calculate accuracy\n",
    "# TODO"
   ]
  },
  {
   "cell_type": "markdown",
   "id": "70bb4be0-6358-4367-a66b-328456b17b1e",
   "metadata": {},
   "source": [
    "## Exercise T8.3 c)\n",
    "\n",
    "Perform training, 4-fold cross-validation, and testing with a 60-20-20 % split in Python. Use the\n",
    "precision as metric for model selection. Build a confusion matrix for the test set and report precision,\n",
    "accuracy, and recall."
   ]
  },
  {
   "cell_type": "code",
   "execution_count": null,
   "id": "94df54d6-07db-4cea-ae38-18bce02d9895",
   "metadata": {},
   "outputs": [],
   "source": [
    "# Train-test split\n",
    "# TODO\n",
    "\n",
    "# Define some Models\n",
    "# TODO\n",
    "# train_model_1 = RandomForestClassifier(...)\n",
    "# train_model_2 = RandomForestClassifier(...)\n",
    "# train_model_3 = RandomForestClassifier(...)\n",
    "\n",
    "# Split features and labels\n",
    "# TODO\n",
    "\n",
    "# Perform cross-validation on all three models and choose the one with the highest\n",
    "#  average precision (across all folds)\n",
    "# TODO\n",
    "\n",
    "# Train the final model (no cross-validation)\n",
    "# TODO\n",
    "\n",
    "# Report scores on final model\n",
    "# TODO"
   ]
  },
  {
   "cell_type": "code",
   "execution_count": null,
   "id": "63eeb990-ebed-49a0-ac3b-3f98cca5f4f7",
   "metadata": {},
   "outputs": [],
   "source": [
    "# Variable Importance Plot\n",
    "# TODO\n",
    "\n",
    "# Apply on test set\n",
    "# TODO"
   ]
  },
  {
   "cell_type": "code",
   "execution_count": null,
   "id": "27f13694-8f17-4c26-89eb-f5a8a9e0f5ec",
   "metadata": {},
   "outputs": [],
   "source": [
    "# Confusion Matrix\n",
    "# TODO\n",
    "\n",
    "# Precision, accuracy, recall\n",
    "# TODO"
   ]
  }
 ],
 "metadata": {
  "kernelspec": {
   "display_name": "baml",
   "language": "python",
   "name": "baml"
  },
  "language_info": {
   "codemirror_mode": {
    "name": "ipython",
    "version": 3
   },
   "file_extension": ".py",
   "mimetype": "text/x-python",
   "name": "python",
   "nbconvert_exporter": "python",
   "pygments_lexer": "ipython3",
   "version": "3.11.5"
  }
 },
 "nbformat": 4,
 "nbformat_minor": 5
}
